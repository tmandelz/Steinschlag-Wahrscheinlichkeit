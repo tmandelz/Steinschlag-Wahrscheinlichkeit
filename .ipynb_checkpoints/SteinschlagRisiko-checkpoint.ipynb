{
 "cells": [
  {
   "cell_type": "code",
   "execution_count": 6,
   "id": "19feb59e",
   "metadata": {},
   "outputs": [
    {
     "data": {
      "text/html": [
       "<div>\n",
       "<style scoped>\n",
       "    .dataframe tbody tr th:only-of-type {\n",
       "        vertical-align: middle;\n",
       "    }\n",
       "\n",
       "    .dataframe tbody tr th {\n",
       "        vertical-align: top;\n",
       "    }\n",
       "\n",
       "    .dataframe thead th {\n",
       "        text-align: right;\n",
       "    }\n",
       "</style>\n",
       "<table border=\"1\" class=\"dataframe\">\n",
       "  <thead>\n",
       "    <tr style=\"text-align: right;\">\n",
       "      <th></th>\n",
       "      <th>date</th>\n",
       "      <th>timestamp</th>\n",
       "      <th>mass</th>\n",
       "      <th>velocity</th>\n",
       "      <th>zone</th>\n",
       "      <th>energy</th>\n",
       "    </tr>\n",
       "  </thead>\n",
       "  <tbody>\n",
       "    <tr>\n",
       "      <th>0</th>\n",
       "      <td>2019-01-01</td>\n",
       "      <td>09:00</td>\n",
       "      <td>194</td>\n",
       "      <td>8.4</td>\n",
       "      <td>1</td>\n",
       "      <td>6.844320</td>\n",
       "    </tr>\n",
       "    <tr>\n",
       "      <th>1</th>\n",
       "      <td>2019-01-01</td>\n",
       "      <td>21:00</td>\n",
       "      <td>224</td>\n",
       "      <td>8.8</td>\n",
       "      <td>1</td>\n",
       "      <td>8.673280</td>\n",
       "    </tr>\n",
       "    <tr>\n",
       "      <th>2</th>\n",
       "      <td>2019-01-02</td>\n",
       "      <td>14:00</td>\n",
       "      <td>3104</td>\n",
       "      <td>9.2</td>\n",
       "      <td>1</td>\n",
       "      <td>131.361280</td>\n",
       "    </tr>\n",
       "    <tr>\n",
       "      <th>3</th>\n",
       "      <td>2019-01-04</td>\n",
       "      <td>15:00</td>\n",
       "      <td>228</td>\n",
       "      <td>8.0</td>\n",
       "      <td>1</td>\n",
       "      <td>7.296000</td>\n",
       "    </tr>\n",
       "    <tr>\n",
       "      <th>4</th>\n",
       "      <td>2019-01-05</td>\n",
       "      <td>23:00</td>\n",
       "      <td>755</td>\n",
       "      <td>7.0</td>\n",
       "      <td>1</td>\n",
       "      <td>18.497500</td>\n",
       "    </tr>\n",
       "    <tr>\n",
       "      <th>...</th>\n",
       "      <td>...</td>\n",
       "      <td>...</td>\n",
       "      <td>...</td>\n",
       "      <td>...</td>\n",
       "      <td>...</td>\n",
       "      <td>...</td>\n",
       "    </tr>\n",
       "    <tr>\n",
       "      <th>27</th>\n",
       "      <td>2019-03-20</td>\n",
       "      <td>10:00</td>\n",
       "      <td>16</td>\n",
       "      <td>42.1</td>\n",
       "      <td>2</td>\n",
       "      <td>14.179280</td>\n",
       "    </tr>\n",
       "    <tr>\n",
       "      <th>28</th>\n",
       "      <td>2019-03-21</td>\n",
       "      <td>13:00</td>\n",
       "      <td>211</td>\n",
       "      <td>29.0</td>\n",
       "      <td>2</td>\n",
       "      <td>88.725500</td>\n",
       "    </tr>\n",
       "    <tr>\n",
       "      <th>29</th>\n",
       "      <td>2019-03-24</td>\n",
       "      <td>16:00</td>\n",
       "      <td>3</td>\n",
       "      <td>42.3</td>\n",
       "      <td>2</td>\n",
       "      <td>2.683935</td>\n",
       "    </tr>\n",
       "    <tr>\n",
       "      <th>30</th>\n",
       "      <td>2019-03-25</td>\n",
       "      <td>14:00</td>\n",
       "      <td>63</td>\n",
       "      <td>43.2</td>\n",
       "      <td>2</td>\n",
       "      <td>58.786560</td>\n",
       "    </tr>\n",
       "    <tr>\n",
       "      <th>31</th>\n",
       "      <td>2019-03-28</td>\n",
       "      <td>01:00</td>\n",
       "      <td>58</td>\n",
       "      <td>37.2</td>\n",
       "      <td>2</td>\n",
       "      <td>40.131360</td>\n",
       "    </tr>\n",
       "  </tbody>\n",
       "</table>\n",
       "<p>100 rows × 6 columns</p>\n",
       "</div>"
      ],
      "text/plain": [
       "          date timestamp  mass  velocity zone      energy\n",
       "0   2019-01-01     09:00   194       8.4    1    6.844320\n",
       "1   2019-01-01     21:00   224       8.8    1    8.673280\n",
       "2   2019-01-02     14:00  3104       9.2    1  131.361280\n",
       "3   2019-01-04     15:00   228       8.0    1    7.296000\n",
       "4   2019-01-05     23:00   755       7.0    1   18.497500\n",
       "..         ...       ...   ...       ...  ...         ...\n",
       "27  2019-03-20     10:00    16      42.1    2   14.179280\n",
       "28  2019-03-21     13:00   211      29.0    2   88.725500\n",
       "29  2019-03-24     16:00     3      42.3    2    2.683935\n",
       "30  2019-03-25     14:00    63      43.2    2   58.786560\n",
       "31  2019-03-28     01:00    58      37.2    2   40.131360\n",
       "\n",
       "[100 rows x 6 columns]"
      ]
     },
     "execution_count": 6,
     "metadata": {},
     "output_type": "execute_result"
    }
   ],
   "source": [
    "##Import Libraries\n",
    "import pandas as pd\n",
    "\n",
    "##Read first CSV File\n",
    "dataFile1 = pd.read_csv(\"out_1.csv\")\n",
    "##Read second CSV File\n",
    "dataFile2 = pd.read_csv(\"out_2.csv\")\n",
    "\n",
    "#Add Zone columns\n",
    "dataFile1['zone']='1'\n",
    "dataFile2['zone']='2'\n",
    "\n",
    "#Append File 2 to File 1\n",
    "mergedDataFile = dataFile1.append(dataFile2)\n",
    "\n",
    "#Add Energy in KJ column formula(KE=1/2mv^2)/1000 in m = kg and v = m/s\n",
    "mergedDataFile['energy']=((mergedDataFile['mass']/2)*(mergedDataFile['velocity']**2) / 1000)\n",
    "\n",
    "mergedDataFile\n",
    "\n",
    "\n",
    "\n",
    "#mergedDataFile.boxplot()\n",
    "#print(mergedDataFile)\n",
    "#print(mergedDataFile['zone'])\n"
   ]
  },
  {
   "cell_type": "code",
   "execution_count": 15,
   "id": "10ac9969-db50-4e1a-aa04-2a2765d1acb4",
   "metadata": {},
   "outputs": [
    {
     "data": {
      "text/plain": [
       "<AxesSubplot:ylabel='Frequency'>"
      ]
     },
     "execution_count": 15,
     "metadata": {},
     "output_type": "execute_result"
    },
    {
     "data": {
      "image/png": "[encoded data removed]",
      "text/plain": [
       "<Figure size 432x288 with 1 Axes>"
      ]
     },
     "metadata": {
      "needs_background": "light"
     },
     "output_type": "display_data"
    }
   ],
   "source": [
    "mergedDataFile[\"energy\"].plot.hist(bins = 40)"
   ]
  },
  {
   "cell_type": "code",
   "execution_count": 32,
   "id": "6ee2de0a-ba2a-47b7-ad45-59f7bd746a4f",
   "metadata": {},
   "outputs": [
    {
     "data": {
      "text/plain": [
       "<AxesSubplot:xlabel='date'>"
      ]
     },
     "execution_count": 32,
     "metadata": {},
     "output_type": "execute_result"
    },
    {
     "data": {
      "image/png": "[encoded data removed]",
      "text/plain": [
       "<Figure size 432x288 with 1 Axes>"
      ]
     },
     "metadata": {
      "needs_background": "light"
     },
     "output_type": "display_data"
    }
   ],
   "source": [
    "mergedDataFile.groupby(\"date\").count()[\"energy\"].plot()"
   ]
  },
  {
   "cell_type": "code",
   "execution_count": 35,
   "id": "75c7079c-1ae2-4ea6-8a7e-528ac1584bae",
   "metadata": {},
   "outputs": [
    {
     "data": {
      "text/plain": [
       "<AxesSubplot:xlabel='date'>"
      ]
     },
     "execution_count": 35,
     "metadata": {},
     "output_type": "execute_result"
    },
    {
     "data": {
      "image/png": "[encoded data removed]",
      "text/plain": [
       "<Figure size 432x288 with 1 Axes>"
      ]
     },
     "metadata": {
      "needs_background": "light"
     },
     "output_type": "display_data"
    }
   ],
   "source": [
    "mergedDataFile.groupby(\"date\").sum()[\"energy\"].plot()"
   ]
  },
  {
   "cell_type": "code",
   "execution_count": null,
   "id": "afca287a-3561-47cb-9b62-4f73fecd1636",
   "metadata": {},
   "outputs": [],
   "source": []
  }
 ],
 "metadata": {
  "kernelspec": {
   "display_name": "Python 3",
   "language": "python",
   "name": "python3"
  },
  "language_info": {
   "codemirror_mode": {
    "name": "ipython",
    "version": 3
   },
   "file_extension": ".py",
   "mimetype": "text/x-python",
   "name": "python",
   "nbconvert_exporter": "python",
   "pygments_lexer": "ipython3",
   "version": "3.8.8"
  }
 },
 "nbformat": 4,
 "nbformat_minor": 5
}
