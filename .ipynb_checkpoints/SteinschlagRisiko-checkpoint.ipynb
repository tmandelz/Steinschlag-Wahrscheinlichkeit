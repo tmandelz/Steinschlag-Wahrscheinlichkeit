{
 "cells": [
  {
   "cell_type": "markdown",
   "id": "8fd3e379-020d-4943-b6b3-3bc45690861e",
   "metadata": {},
   "source": [
    "# Steinschlag Challenge\n",
    "\n",
    "## Mitglieder\n",
    "- Julia Lobatón\n",
    "- Lukasz Gothszalk\n",
    "- Patrick Schürmann\n",
    "- Thomas Mandelz\n",
    "\n",
    "## Einführung\n",
    "\n",
    "Nachfolgend unsere Abgabe zur Steinschlag Challenge DS HS 2021.\n",
    "\n",
    "\n"
   ]
  },
  {
   "cell_type": "markdown",
   "id": "2c769f78-e2ee-46ad-be3a-47eadab52028",
   "metadata": {},
   "source": [
    "## Vorbereitung und Funktionsdefinition"
   ]
  },
  {
   "cell_type": "code",
   "execution_count": 1,
   "id": "006551b2-01a8-4dd1-9e0b-00c36fd60ac6",
   "metadata": {},
   "outputs": [],
   "source": [
    "# Import Libraries\n",
    "from scipy import stats\n",
    "from numpy.random.mtrand import exponential\n",
    "from numpy.random import normal\n",
    "from statistics import mean\n",
    "import pandas as pd\n",
    "import numpy as np\n",
    "from datetime import datetime\n",
    "import matplotlib.pyplot as plt\n",
    "from numpy.random import default_rng\n",
    "\n",
    "# Global Variables\n",
    "# Anzahl Durchgänge in der Monte Carlo Simulation\n",
    "sizeMonteCarloSim = 1_000_000\n",
    "# Grenzwert der Wahrscheinlichkeit\n",
    "LimitProbability = 10 ** -4\n",
    "\n",
    "\n",
    "\n"
   ]
  },
  {
   "cell_type": "code",
   "execution_count": 2,
   "id": "bb4a05ce",
   "metadata": {},
   "outputs": [],
   "source": [
    "\n",
    "#Function for fitting a distribution on values of a column\n",
    "def FindmostfittingDistribution(MatrixColumn):\n",
    "\n",
    "    # List of available Distributions for fitting in scipy\n",
    "    list_of_dists = ['beta', 'cauchy', 'chi', 'chi2',\n",
    "                     'expon', 'logistic', 'norm', 'pareto', 't', 'uniform','gamma']\n",
    "\n",
    "    results = []\n",
    "    for i in list_of_dists:\n",
    "        dist = getattr(stats, i)\n",
    "        param = dist.fit(MatrixColumn)\n",
    "        a = stats.kstest(MatrixColumn, i, args=param)\n",
    "        results.append((i, a[0], a[1]))\n",
    "\n",
    "    results.sort(key=lambda x: float(x[2]), reverse=True)\n",
    "    for j in results:\n",
    "        print(\"{}: statistic={}, pvalue={}\".format(j[0], j[1], j[2]))\n",
    "        \n",
    "        \n",
    "\n",
    "#Function for Reading CSV File to Dataframe\n",
    "def ReadDataframe():\n",
    "    ##Read first CSV File\n",
    "    dataFile1 = pd.read_csv(\"out_1.csv\")\n",
    "    ##Read second CSV File\n",
    "    dataFile2 = pd.read_csv(\"out_2.csv\")\n",
    "\n",
    "    #Add Zone columns\n",
    "    dataFile1['zone']='1'\n",
    "    dataFile2['zone']='2'\n",
    "\n",
    "    #Append File 2 to File 1\n",
    "    mergedDataFile = dataFile1.append(dataFile2)\n",
    "    return mergedDataFile\n",
    "\n",
    "\n",
    "# Calculate and Update Columns\n",
    "def CalculateandUpdateColumns(mergedDataFile):\n",
    "    \n",
    "    #Add Energy in KJ column formula(KE=1/2mv^2)/1000 in m = kg and v = m/s\n",
    "    mergedDataFile['energy']=((mergedDataFile['mass']/2)*(mergedDataFile['velocity']**2) / 1000)\n",
    "\n",
    "    # Add Trigger if stone has fallen\n",
    "    mergedDataFile[\"Trigger\"] = np.where(mergedDataFile[\"zone\"] == 0, 0, 1) \n",
    "\n",
    "    # Create Datetime Column\n",
    "    mergedDataFile[\"DateTime\"] = pd.to_datetime(mergedDataFile['date'] + ' ' + mergedDataFile['timestamp'])\n",
    "\n",
    "    # Change Hour if two stones at same time\n",
    "    mergedDataFile = mergedDataFile.sort_values(by=['DateTime'])\n",
    "    mergedDataFile = mergedDataFile.reset_index(drop=True)\n",
    "    mergedDataFile.loc[1, 'timestamp'] = \"10:00\"\n",
    "    mergedDataFile.loc[44, 'timestamp'] = \"13:00\"\n",
    "    mergedDataFile.loc[89, 'timestamp'] = \"13:00\"\n",
    "\n",
    "    # Update Datetime Column\n",
    "    mergedDataFile[\"DateTime\"] = pd.to_datetime(mergedDataFile['date'] + ' ' + mergedDataFile['timestamp'])\n",
    "\n",
    "\n",
    "\n",
    "    # Calculate Time before next Stone\n",
    "    mergedDataFileZone1 = mergedDataFile.loc[mergedDataFile['zone'] == \"1\"]\n",
    "    TimebeforeStone1 =mergedDataFileZone1[\"DateTime\"].diff()\n",
    "    mergedDataFileZone1[\"TimebeforeStone\"] = TimebeforeStone1.astype('timedelta64[h]').fillna(0)\n",
    "\n",
    "\n",
    "    mergedDataFileZone2 = mergedDataFile.loc[mergedDataFile['zone'] == \"2\"]\n",
    "    TimebeforeStone2 =mergedDataFileZone2[\"DateTime\"].diff()\n",
    "    mergedDataFileZone2[\"TimebeforeStone\"] = TimebeforeStone2.astype('timedelta64[h]').fillna(0)\n",
    "\n",
    "\n",
    "    mergedDataFile = mergedDataFileZone1.append(mergedDataFileZone2)\n",
    "\n",
    "    \n",
    "    # Fill missing hours\n",
    "    dfTimeSerie = mergedDataFile\n",
    "    dfTimeSerie = dfTimeSerie.set_index(mergedDataFile[\"DateTime\"])\n",
    "\n",
    "    dfTimeSerie = dfTimeSerie.resample('H').first().fillna(0)\n",
    "    dfTimeSerie['DateTime'] = dfTimeSerie.index\n",
    "\n",
    "    # Fill new missing days and hours in date and timestamp\n",
    "    dfTimeSerie[\"date\"] = dfTimeSerie[\"DateTime\"].dt.date\n",
    "    dfTimeSerie[\"timestamp\"] = dfTimeSerie[\"DateTime\"].dt.time\n",
    "    \n",
    "    # Rolling 24h\n",
    "    dfTimeSerie[\"rollingEnergy24h\"] = dfTimeSerie[\"energy\"].rolling(24, min_periods=1).sum()\n",
    "    dfTimeSerie[\"rollingmass24h\"] = dfTimeSerie[\"mass\"].rolling(24, min_periods=1).sum()\n",
    "\n",
    "\n",
    "    # Calculate Breach\n",
    "    dfTimeSerie[\"BreachEnergy\"] = np.where(dfTimeSerie[\"energy\"] >= 1000, 1, 0)\n",
    "    dfTimeSerie[\"BreachFullNet\"] = np.where((dfTimeSerie[\"energy\"] >= 500) & (dfTimeSerie[\"rollingmass24h\"] >= 2000), 1, 0)\n",
    "    # Theoretisch müsste man dfTimeSerie[\"rollingmass24h\"] von der Reihe darüber nehmen, nun wird auch der neue Stein dazugezählt.\n",
    "    return mergedDataFile"
   ]
  },
  {
   "cell_type": "code",
   "execution_count": 3,
   "id": "e85d3a8f-22a8-417d-8f46-0b39bd3f955c",
   "metadata": {},
   "outputs": [
    {
     "name": "stderr",
     "output_type": "stream",
     "text": [
      "<ipython-input-2-f672d91fee6c>:64: SettingWithCopyWarning: \n",
      "A value is trying to be set on a copy of a slice from a DataFrame.\n",
      "Try using .loc[row_indexer,col_indexer] = value instead\n",
      "\n",
      "See the caveats in the documentation: https://pandas.pydata.org/pandas-docs/stable/user_guide/indexing.html#returning-a-view-versus-a-copy\n",
      "  mergedDataFileZone1[\"TimebeforeStone\"] = TimebeforeStone1.astype('timedelta64[h]').fillna(0)\n",
      "<ipython-input-2-f672d91fee6c>:69: SettingWithCopyWarning: \n",
      "A value is trying to be set on a copy of a slice from a DataFrame.\n",
      "Try using .loc[row_indexer,col_indexer] = value instead\n",
      "\n",
      "See the caveats in the documentation: https://pandas.pydata.org/pandas-docs/stable/user_guide/indexing.html#returning-a-view-versus-a-copy\n",
      "  mergedDataFileZone2[\"TimebeforeStone\"] = TimebeforeStone2.astype('timedelta64[h]').fillna(0)\n"
     ]
    }
   ],
   "source": [
    "listfeatures_samples = pd.DataFrame()\n",
    "mergedDataFile = ReadDataframe()\n",
    "mergedDataFile = CalculateandUpdateColumns(mergedDataFile)\n",
    "dataFile1 = mergedDataFile.loc[mergedDataFile['zone'] == \"1\"]\n",
    "dataFile2 = mergedDataFile.loc[mergedDataFile['zone'] == \"2\"]\n"
   ]
  },
  {
   "cell_type": "markdown",
   "id": "da42ca58-067f-4d58-9dd2-31306e075d88",
   "metadata": {},
   "source": [
    "### Eigenschaftsübersicht der Beobachtungen\n",
    "In der Zone 1 wurden 68 Steine beobachtet und in der Zone 2 waren es 32 Beobachtungen."
   ]
  },
  {
   "cell_type": "code",
   "execution_count": 4,
   "id": "a00102fe",
   "metadata": {},
   "outputs": [
    {
     "data": {
      "image/png": "[encoded data removed]",
      "text/plain": [
       "<Figure size 432x288 with 1 Axes>"
      ]
     },
     "metadata": {
      "needs_background": "light"
     },
     "output_type": "display_data"
    }
   ],
   "source": [
    "mergedDataFile.boxplot(column = \"mass\", by = \"zone\")\n",
    "plt.title(\"Boxplot der Masse in kg nach Ablösungszone\")\n",
    "plt.suptitle(\" \")\n",
    "plt.xlabel(\"Ablösungszone\")\n",
    "plt.ylabel(\"Masse in kg\")\n",
    "plt.show()\n"
   ]
  },
  {
   "cell_type": "code",
   "execution_count": 5,
   "id": "80971903-c1ea-47f3-94a0-e2bf1d2ef393",
   "metadata": {},
   "outputs": [
    {
     "data": {
      "image/png": "[encoded data removed]",
      "text/plain": [
       "<Figure size 432x288 with 1 Axes>"
      ]
     },
     "metadata": {
      "needs_background": "light"
     },
     "output_type": "display_data"
    }
   ],
   "source": [
    "mergedDataFile.boxplot(column = \"velocity\", by = \"zone\")\n",
    "plt.title(\"Boxplot der Geschwindigkeit in ms nach Ablösungszone\")\n",
    "plt.suptitle(\" \")\n",
    "plt.xlabel(\"Ablösungszone\")\n",
    "plt.ylabel(\"Geschwindigkeit in m/s\")\n",
    "plt.show()"
   ]
  },
  {
   "cell_type": "code",
   "execution_count": 6,
   "id": "0b32f89a-ad50-412e-8eb2-435ee4ab5ebd",
   "metadata": {},
   "outputs": [
    {
     "data": {
      "image/png": "[encoded data removed]",
      "text/plain": [
       "<Figure size 432x288 with 1 Axes>"
      ]
     },
     "metadata": {
      "needs_background": "light"
     },
     "output_type": "display_data"
    }
   ],
   "source": [
    "mergedDataFile.boxplot(column = \"energy\", by = \"zone\")\n",
    "plt.title(\"Boxplot der kinetischen Energie in kJ nach Ablösungszone\")\n",
    "plt.suptitle(\" \")\n",
    "plt.xlabel(\"Ablösungszone\")\n",
    "plt.ylabel(\"Energie in Kilojoule\") \n",
    "plt.show()"
   ]
  },
  {
   "cell_type": "code",
   "execution_count": 7,
   "id": "df203de1-7b59-4bd4-93dc-fa6631812df5",
   "metadata": {},
   "outputs": [
    {
     "data": {
      "image/png": "[encoded data removed]",
      "text/plain": [
       "<Figure size 432x288 with 1 Axes>"
      ]
     },
     "metadata": {
      "needs_background": "light"
     },
     "output_type": "display_data"
    }
   ],
   "source": [
    "ScatterplotTime = mergedDataFile.groupby(['timestamp']).agg({'Trigger':'sum'})\n",
    "plt.scatter(ScatterplotTime.index, ScatterplotTime['Trigger'])\n",
    "plt.xticks([\"00:00\",\"04:00\",\"08:00\",\"12:00\",\"16:00\",\"20:00\",\"24:00\"])\n",
    "plt.title(\"Übersicht der Anzahl Steine pro Stunde\")\n",
    "plt.xlabel(\"Uhrzeit\")\n",
    "plt.ylabel(\"Summe der Steine\")\n",
    "plt.show()"
   ]
  },
  {
   "cell_type": "code",
   "execution_count": 8,
   "id": "e8e0565b-baa4-4499-bf33-d874211c9120",
   "metadata": {},
   "outputs": [
    {
     "data": {
      "image/png": "[encoded data removed]",
      "text/plain": [
       "<Figure size 432x288 with 1 Axes>"
      ]
     },
     "metadata": {
      "needs_background": "light"
     },
     "output_type": "display_data"
    }
   ],
   "source": [
    "ScatterplotDate = mergedDataFile.groupby(mergedDataFile['DateTime'].dt.date).agg({'Trigger':'sum'})\n",
    "plt.scatter(ScatterplotDate.index, ScatterplotDate['Trigger'])\n",
    "plt.xticks([\"2019-01-01 00:00:00\",\"2019-02-01 00:00:00\",\"2019-03-01 00:00:00\",\"2019-04-01 00:00:00\"])\n",
    "plt.title(\"Summe der Anzahl Steine pro Tag\")\n",
    "plt.xlabel(\"Datum\")\n",
    "plt.ylabel(\"Summe der Steine\")\n",
    "plt.show()"
   ]
  },
  {
   "cell_type": "code",
   "execution_count": 9,
   "id": "75585c7f-ea97-4204-ae4d-e05d114cfcdc",
   "metadata": {},
   "outputs": [
    {
     "data": {
      "image/png": "[encoded data removed]",
      "text/plain": [
       "<Figure size 432x288 with 1 Axes>"
      ]
     },
     "metadata": {
      "needs_background": "light"
     },
     "output_type": "display_data"
    }
   ],
   "source": [
    "ScatterplotEnergy =mergedDataFile.groupby(mergedDataFile[\"DateTime\"].dt.date).agg({'energy':'sum'}) \n",
    "plt.scatter(ScatterplotEnergy.index,ScatterplotEnergy['energy'])\n",
    "plt.xticks([\"2019-01-01 00:00:00\",\"2019-02-01 00:00:00\",\"2019-03-01 00:00:00\",\"2019-04-01 00:00:00\"])\n",
    "plt.title(\"Summe der Energie pro Tag\")\n",
    "plt.xlabel(\"Datum\")\n",
    "plt.ylabel(\"Summe der Energie\")\n",
    "plt.show()"
   ]
  },
  {
   "cell_type": "code",
   "execution_count": 10,
   "id": "42e27994-a1e8-4d24-9fa4-dd1791fdfcfe",
   "metadata": {},
   "outputs": [
    {
     "data": {
      "image/png": "[encoded data removed]",
      "text/plain": [
       "<Figure size 432x288 with 1 Axes>"
      ]
     },
     "metadata": {
      "needs_background": "light"
     },
     "output_type": "display_data"
    }
   ],
   "source": [
    "# Fill missing hours\n",
    "dfTimeSerie = mergedDataFile\n",
    "dfTimeSerie = dfTimeSerie.set_index(mergedDataFile[\"DateTime\"])\n",
    "\n",
    "dfTimeSerie = dfTimeSerie.resample('H').first().fillna(0)\n",
    "dfTimeSerie['DateTime'] = dfTimeSerie.index\n",
    "\n",
    "# Fill new missing days and hours in date and timestamp\n",
    "dfTimeSerie[\"date\"] = dfTimeSerie[\"DateTime\"].dt.date\n",
    "dfTimeSerie[\"timestamp\"] = dfTimeSerie[\"DateTime\"].dt.time\n",
    "\n",
    "dfTimeSerie[\"rollingmass24h\"] = dfTimeSerie.groupby(dfTimeSerie[\"DateTime\"].dt.date).agg({'mass':'sum'}) \n",
    "plt.scatter(dfTimeSerie.index,dfTimeSerie['rollingmass24h'])\n",
    "plt.xticks([\"2019-01-01 00:00:00\",\"2019-02-01 00:00:00\",\"2019-03-01 00:00:00\",\"2019-04-01 00:00:00\"])\n",
    "plt.title(\"Summe der Masse pro Tag\")\n",
    "plt.xlabel(\"Datum\")\n",
    "plt.ylabel(\"Summe der Masse\")\n",
    "plt.show()\n"
   ]
  },
  {
   "cell_type": "code",
   "execution_count": 11,
   "id": "665fbb5a",
   "metadata": {},
   "outputs": [],
   "source": [
    "#Definition der Verteilungsinformationen für die Zonen\n",
    "listfeatures_distributions_zone1 = [[\"mass\", \"exponential\"], [\n",
    "    \"velocity\", \"normal\"], [\"TimebeforeStone\", \"exponential\"]]\n",
    "listfeatures_distributions_zone2 = [[\"mass\", \"exponential\"], [\n",
    "    \"velocity\", \"normal\"], [\"TimebeforeStone\", \"exponential\"]]\n",
    "\n",
    "# Second Mainloop for zone calculations\n",
    "# Zone 1\n",
    "listfeatures_samples_zone_1 = pd.DataFrame()\n",
    "zoneindex = 0\n",
    "\n",
    "for featureDistribution in listfeatures_distributions_zone1:\n",
    "    zoneindex = 1\n",
    "    # calc fit dist features case when dist predefined\n",
    "    if (featureDistribution[1] == \"exponential\"):\n",
    "        explambda = mean(dataFile1[featureDistribution[0]])\n",
    "        # generate sample\n",
    "        rng = default_rng()\n",
    "        sample = rng.exponential(explambda,sizeMonteCarloSim)\n",
    "        \n",
    "        listfeatures_samples_zone_1[featureDistribution[0]] = sample\n",
    "        featureDistribution_zone1 = np.append(featureDistribution, sample)\n",
    "\n",
    "    elif(featureDistribution[1] == \"normal\"):\n",
    "        meanTruncated = mean(dataFile1[featureDistribution[0]])\n",
    "        stdTruncated = np.std(dataFile1[featureDistribution[0]])\n",
    "        # generate sample\n",
    "        rng = default_rng()\n",
    "        sample = rng.normal(meanTruncated, stdTruncated,\n",
    "                        size=sizeMonteCarloSim)\n",
    "        listfeatures_samples_zone_1[featureDistribution[0]] = sample\n",
    "    elif(featureDistribution[1] == \"gamma\"):\n",
    "        meanTruncated = mean(dataFile1[featureDistribution[0]])\n",
    "        # generate sample\n",
    "        rng = default_rng()\n",
    "        sample = rng.gamma(meanTruncated,\n",
    "                        size=sizeMonteCarloSim)\n",
    "        listfeatures_samples_zone_1[featureDistribution[0]] = sample\n",
    "\n",
    "# Zone 2\n",
    "listfeatures_samples_zone_2 = pd.DataFrame()\n",
    "zoneindex = 0\n",
    "\n",
    "for featureDistribution in listfeatures_distributions_zone2:\n",
    "    zoneindex = 2\n",
    "    # calc fit dist features case when dist predefined\n",
    "    if (featureDistribution[1] == \"exponential\"):\n",
    "        explambda = mean(dataFile1[featureDistribution[0]])\n",
    "        # generate sample\n",
    "        rng = default_rng()\n",
    "        sample = rng.exponential(explambda, size=sizeMonteCarloSim)\n",
    "        listfeatures_samples_zone_2[featureDistribution[0]] = sample\n",
    "        listfeatures_distributions_zone2 = np.append(\n",
    "            featureDistribution, sample)\n",
    "    elif(featureDistribution[1] == \"normal\"):\n",
    "        meanTruncated = mean(dataFile1[featureDistribution[0]])\n",
    "        stdTruncated = np.std(dataFile1[featureDistribution[0]])\n",
    "        # generate sample\n",
    "        rng = default_rng()\n",
    "        sample = rng.normal(meanTruncated, stdTruncated,\n",
    "                        size=sizeMonteCarloSim)\n",
    "        listfeatures_samples_zone_2[featureDistribution[0]] = sample\n",
    "    elif(featureDistribution[1] == \"gamma\"):\n",
    "        meanTruncated = mean(dataFile2[featureDistribution[0]])\n",
    "        # generate sample\n",
    "        rng = default_rng()\n",
    "        sample = rng.gamma(meanTruncated,\n",
    "                        size=sizeMonteCarloSim)\n",
    "        listfeatures_samples_zone_2[featureDistribution[0]] = sample\n"
   ]
  },
  {
   "cell_type": "code",
   "execution_count": 12,
   "id": "bee6c61f",
   "metadata": {},
   "outputs": [
    {
     "name": "stdout",
     "output_type": "stream",
     "text": [
      "Anzahl simulierter Jahre: 3435.0\n",
      "Number of BreachFullNet: 0\n",
      "Number of direct breakthrough: 0\n"
     ]
    }
   ],
   "source": [
    "# Berechnung der Energie der simulierten Steinschläge pro Zone\n",
    "listfeatures_samples_zone_1['energy'] = (\n",
    "    (listfeatures_samples_zone_1['mass']/2)*(listfeatures_samples_zone_1['velocity']**2) / 1000)\n",
    "listfeatures_samples_zone_2['energy'] = (\n",
    "    (listfeatures_samples_zone_2['mass']/2)*(listfeatures_samples_zone_2['velocity']**2) / 1000)\n",
    "# # Markierung der Steine, die mit der Energie das Netz durchschlagen haben\n",
    "listfeatures_samples_zone_1['direct_breakthrough'] = np.where(\n",
    "    (listfeatures_samples_zone_1[\"energy\"] >= 1000), 1, 0)\n",
    "listfeatures_samples_zone_2['direct_breakthrough'] = np.where(\n",
    "    (listfeatures_samples_zone_2[\"energy\"] >= 1000), 1, 0)\n",
    "\n",
    "listfeatures_samples_zone_1['Zone'] = 1\n",
    "listfeatures_samples_zone_2['Zone'] = 2\n",
    "\n",
    "\n",
    "# Berechnung Masse im Netz\n",
    "\n",
    "listfeatures_samples_zone_1[\"CumsumHoursbeforeStone\"] = listfeatures_samples_zone_1[\"TimebeforeStone\"].cumsum()\n",
    "listfeatures_samples_zone_2[\"CumsumHoursbeforeStone\"] = listfeatures_samples_zone_2[\"TimebeforeStone\"].cumsum()\n",
    "\n",
    "\n",
    "listfeatures_samples = listfeatures_samples_zone_1.append(listfeatures_samples_zone_2, ignore_index=True)\n",
    "\n",
    "\n",
    "listfeatures_samples = listfeatures_samples.sort_values(by='CumsumHoursbeforeStone')\n",
    "listfeatures_samples = listfeatures_samples.reset_index(drop=True)\n",
    "\n",
    "listfeatures_samples[\"Year\"] = listfeatures_samples['CumsumHoursbeforeStone'].floordiv(8760)\n",
    "\n",
    "\n",
    "# Berechnet, wieviel Masse pro Tag im Netz ist, aber nicht, ob es wegen dem letzten gerissen ist...\n",
    "listfeatures_samples[\"Tag\"] = listfeatures_samples['CumsumHoursbeforeStone'] // 24\n",
    "Netzvoll = listfeatures_samples.groupby(\"Tag\")[\"mass\"].agg(\"sum\")\n",
    "Netzvoll = pd.DataFrame({'Tag': Netzvoll.index, 'Tagesmasse': Netzvoll.values})\n",
    "listfeatures_samples = listfeatures_samples.merge(Netzvoll, how=\"left\", on=\"Tag\")\n",
    "listfeatures_samples[\"PossibleBreachFullNet\"] = np.where((listfeatures_samples[\"energy\"] >= 500) & (listfeatures_samples[\"Tagesmasse\"] >= 2000), 1, 0)\n",
    "\n",
    "\n",
    "CountBreachFullNet = 0\n",
    "ListPossibleBrechFullNet = listfeatures_samples[listfeatures_samples[\"PossibleBreachFullNet\"] == 1]\n",
    "ListPossibleBrechFullNet = ListPossibleBrechFullNet.reset_index()\n",
    "for i in range(len(ListPossibleBrechFullNet)):\n",
    "    Day = ListPossibleBrechFullNet.loc[i, \"Tag\"]\n",
    "    ToCheck = listfeatures_samples[listfeatures_samples[\"Tag\"] == Day]\n",
    "    ToCheck = ToCheck.reset_index()\n",
    "    ToCheck[\"CumsumMass\"] = ToCheck[\"mass\"].shift().cumsum()\n",
    "    for i in range(len(ToCheck)):\n",
    "        if ToCheck.loc[i, \"direct_breakthrough\"] == 1:\n",
    "            break  # break weil wenn das Netz durchbrochen ist, die Strasse gesperrt wird\n",
    "        else:\n",
    "            if (ToCheck.loc[i, \"energy\"] >= 500) & (ToCheck.loc[i, \"CumsumMass\"] >= 2000):\n",
    "                CountBreachFullNet += 1\n",
    "                break\n",
    "\n",
    "print(\"Anzahl simulierter Jahre:\", listfeatures_samples[\"Year\"].max())\n",
    "print(\"Anzahl Durchbrüche nach vollem Netz:\", CountBreachFullNet)\n",
    "print(\"Anzahl direkter Durchbrüche:\",listfeatures_samples[\"direct_breakthrough\"].sum())\n"
   ]
  },
  {
   "cell_type": "code",
   "execution_count": 13,
   "id": "c6528222-7b35-4672-97c8-f8cb921254e0",
   "metadata": {},
   "outputs": [
    {
     "name": "stdout",
     "output_type": "stream",
     "text": [
      "0.0\n",
      "0.0001\n",
      "Keine Durchbrüche vorhanden. Die Simulationanzahl muss erhöht werden.\n",
      "Wahrscheinlichkeitsgrenzwert nicht überschritten. Strasse kann offen bleiben!\n"
     ]
    }
   ],
   "source": [
    "#Breaches / Jahre * Auto Probabilty * Todefall Probability\n",
    "\n",
    "\n",
    "AllBreaches = float(CountBreachFullNet + listfeatures_samples[\"direct_breakthrough\"].sum())\n",
    "MaxYears = float(listfeatures_samples[\"Year\"].max())\n",
    "#Angenommener Wert\n",
    "ProbabilityAuto = float(0.1)\n",
    "ProbabilityDeath = float(4/14)\n",
    "\n",
    "\n",
    "DangerProbability = AllBreaches / MaxYears  * ProbabilityAuto * ProbabilityDeath\n",
    "\n",
    "print(DangerProbability)\n",
    "print(LimitProbability)\n",
    "\n",
    "if AllBreaches == 0:\n",
    "    print(\"Keine Durchbrüche vorhanden. Die Simulationanzahl muss erhöht werden.\")\n",
    "\n",
    "if DangerProbability >= LimitProbability :\n",
    "    print(\"Wahrscheinlichkeitsgrenzwert überschritten.\")\n",
    "    \n",
    "else:\n",
    "    print(\"Wahrscheinlichkeitsgrenzwert nicht überschritten. Strasse kann offen bleiben!\")\n",
    "        \n",
    "\n",
    "\n",
    "#Auto Probability\n",
    "#60 km/h -> ms\n",
    "# Gefahrenzone pro AUto 40m (4m auto + 36 m bremsweg)\n",
    "# Steingrösse 1m\n",
    "# Wie lange ist ein Auto in der Gefahrenzone (40m) "
   ]
  },
  {
   "cell_type": "code",
   "execution_count": null,
   "id": "ad3b9dbe-44a7-4196-b9b6-d33c331113a6",
   "metadata": {},
   "outputs": [],
   "source": []
  }
 ],
 "metadata": {
  "citation-manager": {
   "items": {}
  },
  "kernelspec": {
   "display_name": "Python 3",
   "language": "python",
   "name": "python3"
  },
  "language_info": {
   "codemirror_mode": {
    "name": "ipython",
    "version": 3
   },
   "file_extension": ".py",
   "mimetype": "text/x-python",
   "name": "python",
   "nbconvert_exporter": "python",
   "pygments_lexer": "ipython3",
   "version": "3.9.7"
  }
 },
 "nbformat": 4,
 "nbformat_minor": 5
}
