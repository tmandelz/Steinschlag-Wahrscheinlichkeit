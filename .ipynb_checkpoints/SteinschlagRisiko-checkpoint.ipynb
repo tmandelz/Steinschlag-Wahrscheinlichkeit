{
 "cells": [
  {
   "cell_type": "markdown",
   "metadata": {},
   "source": [
    "# Steinschlag Challenge HS21\n",
    "\n",
    "## Mitglieder\n",
    "- Julia Lobatón\n",
    "- Lukasz Gothszalk\n",
    "- Patrick Schürmann\n",
    "- Thomas Mandelz\n",
    "\n",
    "## Einführung\n",
    "\n",
    "Nachfolgend unsere Abgabe zur Steinschlag Challenge DS HS 2021.\n",
    "\n",
    "## Die Aufgabestellung\n",
    "\n",
    "Die Kantonsstrasse unterhalb Schiers (GR) ist vom Steinschlag betroffen. Steine lösen sich von zwei unterschiedlichen Stellen an der Felswand ab (Ablösungszone 1 und Ablösungszone 2). Der betroffene Strassenabschnitt ist mit Steinfangnetzen gesichert, die jedoch in die Jahre gekommen sind und die angestrebte Sicherheit nicht mehr gewährleisten können. Die Planung für Ersatznetze hat bereits begonnen, kann aber frühstens in einem Jahr umgesetzt werden.\n",
    "\n",
    "In den letzten Monaten haben sich mehrere Steinschlagereignisse ereignet. Kommt es im Lauf des nächsten Jahres zu weiteren vergleichbaren Ereignissen, könnten die alten Sicherheitsnetze versagen und die Verkehrsteilnehmer einem grossen Sicherheitsrisiko ausgesetzt sein. Die Bevölkerung ist verunsichert und der Kantonsingenieur muss schnell entscheiden, ob das Risiko für die Verkehrsteilnehmer zu gross ist und die Kantonsstrasse vorübergehend gesperrt werden muss. Der Kantonsingenieur hat sie beauftragt, anhand von vorhanden Daten die Wahrscheinlichkeit eines Todesfalls zu berechnen und eine Empfehlung bezüglich der Schliessung bzw Offenhaltung der Strasse auszusprechen.\n",
    "\n",
    "Damit die Strasse offen bleiben kann, muss gezeigt werden, dass die jährliche Wahrscheinlichkeit von Todesfällen infolge Steinschlags kleiner als 10-4 ist.\n",
    "\n",
    "Für die Planung der neuen Sicherheitsnetze, hat ein beauftragter Geologe, über drei Monate Daten zu den Steinschlagereignisse aufgenommen. Dabei wurde Steingeschwindigkeit, Steinmasse und Zeitpunkt und der Zeitpunkt des Ereignis registriert. \n",
    "\n",
    "Ein beauftragtes Ingenieurbüro hat geschätzt, dass die Sicherheitsnetze bis zu einer Aufprallenergie von 1000 kJ sicher sind. Falls bereits ein Stein mit über 2000kg in den Sicherheitsnetzen liegt, beträgt die Aufprallenergie, die von den Sicherheitsnetzen aufgenommen werden kann, nur noch 500 kJ. Steine in den Sicherheitsnetze werden vom Unterhaltsteam entfernt (die Reaktionszeit beträgt 24 Stunden). \n",
    "\n",
    "Das tägliche Verkehrsaufkommen beträgt 1200 Autos. Stau kommt auf der Strecke nicht vor. Die Tempolimite beträgt 60 km/h. "
   ]
  },
  {
   "cell_type": "markdown",
   "metadata": {},
   "source": [
    "## Vorbereitung und Funktionsdefinition"
   ]
  },
  {
   "cell_type": "markdown",
   "metadata": {},
   "source": [
    "Zur Lösung der Challange haben wir zuerst die notwendigen Python Libraries importiert und Variabeln definiert."
   ]
  },
  {
   "cell_type": "code",
   "execution_count": 1,
   "metadata": {},
   "outputs": [],
   "source": [
    "# Import Bibliotheken\n",
    "from scipy import stats\n",
    "from statistics import mean\n",
    "import pandas as pd\n",
    "import numpy as np\n",
    "import matplotlib.pyplot as plt\n",
    "from numpy.random import default_rng\n",
    "\n",
    "# Globale Variablen\n",
    "# Anzahl Durchgänge in der Monte Carlo Simulation\n",
    "sizeMonteCarloSim = 50_000_000\n",
    "sizeMonteCarloSimZone1 = int(sizeMonteCarloSim * 0.68)\n",
    "sizeMonteCarloSimZone2 = int(sizeMonteCarloSim * 0.32)\n",
    "\n",
    "# Grenzwert der Wahrscheinlichkeit\n",
    "ProbabilityLimit = 10 ** -4\n",
    "\n",
    "\n",
    "# Pandas Warnungen ausblenden für Ketten Aufrufe\n",
    "pd.options.mode.chained_assignment = None  # default='warn'\n",
    "\n",
    "\n"
   ]
  },
  {
   "cell_type": "markdown",
   "metadata": {},
   "source": [
    "In einem ersten Schritt haben wir das Fitting zur Bestimmung der Verteilungen (Masse, Geschwindigkeit Zeitabstände zwischen Steinschlägen) vorbereitet und die Daten dafür importiert und aufbereitet."
   ]
  },
  {
   "cell_type": "code",
   "execution_count": 2,
   "metadata": {},
   "outputs": [],
   "source": [
    "# Funktion welche eine Verteilungart fitten kann\n",
    "def FindmostfittingDistribution(ColumnName,MatrixColumn):\n",
    "\n",
    "    # Unterdrückt Division durch 0 Warnungen\n",
    "    with np.errstate(divide='ignore',invalid='ignore'):\n",
    "        # Liste von Verteilungen welche gefittet werden können\n",
    "        list_of_dists = ['cauchy','expon', 'logistic', 'norm','uniform','gamma']\n",
    "    \n",
    "        results = []\n",
    "        # Kolmogorov-Smirnov Test für jede Verteilung um den Typ zu finden\n",
    "        for i in list_of_dists:\n",
    "            dist = getattr(stats, i)\n",
    "            param = dist.fit(MatrixColumn)\n",
    "            a = stats.kstest(MatrixColumn, i, args=param)\n",
    "            results.append((i, a[0], a[1]))\n",
    "\n",
    "        # sortieren der Resultate nach Höchstem PWert\n",
    "        results.sort(key=lambda x: float(x[2]), reverse=True)\n",
    "        # Plotten von Verteilung\n",
    "        MatrixColumn.hist()\n",
    "        plt.title(f\"Histogram der Spalte: {ColumnName}\")\n",
    "        plt.xlabel(f\"{ColumnName}\")\n",
    "        plt.ylabel(\"Dichte\")\n",
    "        plt.show()\n",
    "        \n",
    "        # Ausgabe der Resultate\n",
    "        print(f\"Die folgenden Verteilungen der Spalte {ColumnName} wurden geprüft und fitten am besten in absteigender Reihenfolge:\")\n",
    "        for j in results:\n",
    "            print(\"{}: pvalue={}\".format(j[0], j[1], j[2]))\n",
    "        \n",
    "        \n",
    "\n",
    "# Funktion um die CSV's zu lesen\n",
    "def ReadDataframe():\n",
    "    # Lesen der ersten CSV Datei\n",
    "    dataFile1 = pd.read_csv(\"out_1.csv\")\n",
    "    # Lesen der zweiten CSV Datei\n",
    "    dataFile2 = pd.read_csv(\"out_2.csv\")\n",
    "\n",
    "    # Zonen werden als Spalte ergänzt\n",
    "    dataFile1['zone']='1'\n",
    "    dataFile2['zone']='2'\n",
    "\n",
    "    # Zusammenführen der beiden Zonen Datenframes\n",
    "    mergedDataFile = dataFile1.append(dataFile2)\n",
    "    return mergedDataFile\n",
    "    \n",
    "# Funktion zur Berechnung eines Zeitunterschieds und Ergänzung der jeder Stunde im Datenframe als Row\n",
    "def CalculateTimeDeltaHours(mergedDataFile):\n",
    "    # Stunde dazwischen als Rows ergänzen\n",
    "    TimebeforeStoneZone1 = mergedDataFile.loc[mergedDataFile[\"zone\"] == \"1\",\"DateTime\"].diff()\n",
    "    TimebeforeStoneZone2 = mergedDataFile.loc[mergedDataFile[\"zone\"] == \"2\",\"DateTime\"].diff()\n",
    "    \n",
    "    # Zeitdelta ergänzen\n",
    "    mergedDataFile.loc[mergedDataFile[\"zone\"] == \"1\",\"TimebeforeStone\"] = TimebeforeStoneZone1.astype('timedelta64[h]').fillna(0)     \n",
    "    mergedDataFile.loc[mergedDataFile[\"zone\"] == \"2\",\"TimebeforeStone\"] = TimebeforeStoneZone2.astype('timedelta64[h]').fillna(0)     \n",
    "    return mergedDataFile\n",
    "\n",
    "\n",
    "# Bereinigungen und Berechnungen der Datenframes\n",
    "def CalculateandUpdateColumns(mergedDataFile):\n",
    "    \n",
    "    #Energie mittels der Formel (KE=1/2mv^2)/1000 in m = kg und v = m/s -> Kj\n",
    "    mergedDataFile['energy']=((mergedDataFile['mass']/2)*(mergedDataFile['velocity']**2) / 1000)\n",
    "\n",
    "    # Auslöser Spalte ergänzen wenn ein Stein gefallen ist\n",
    "    mergedDataFile[\"Trigger\"] = np.where(mergedDataFile[\"zone\"] == 0, 0, 1) \n",
    "\n",
    "    # Umformatierung zum Datums Datentyp\n",
    "    mergedDataFile[\"DateTime\"] = pd.to_datetime(mergedDataFile['date'] + ' ' + mergedDataFile['timestamp'])\n",
    "\n",
    "    # Nach Datum ordnen\n",
    "    mergedDataFile = mergedDataFile.sort_values(by=['DateTime'])\n",
    "    mergedDataFile = mergedDataFile.reset_index(drop=True)\n",
    "    # Verschieben der Steine um eine Stunde welche zur gleichen Stunde fallen\n",
    "    mergedDataFile.loc[1, 'timestamp'] = \"10:00\"\n",
    "    mergedDataFile.loc[44, 'timestamp'] = \"13:00\"\n",
    "    mergedDataFile.loc[89, 'timestamp'] = \"13:00\"\n",
    "\n",
    "    # Update der Datumsspalte\n",
    "    mergedDataFile[\"DateTime\"] = pd.to_datetime(mergedDataFile['date'] + ' ' + mergedDataFile['timestamp'])\n",
    "    return mergedDataFile\n",
    "\n",
    "# Funktion zur Erstellung der Timeserie für die Plots\n",
    "def TimeSeriePlots(mergedDataFile):\n",
    "        # Leere Stunden ergänzen\n",
    "        dfTimeSerie = mergedDataFile\n",
    "        dfTimeSerie = dfTimeSerie.set_index(mergedDataFile[\"DateTime\"])\n",
    "        dfTimeSerie = dfTimeSerie.resample('H').first().fillna(0)\n",
    "        dfTimeSerie['DateTime'] = dfTimeSerie.index\n",
    "\n",
    "        # Fehlende Tage und Stunden ergänzen\n",
    "        dfTimeSerie[\"date\"] = dfTimeSerie[\"DateTime\"].dt.date\n",
    "        dfTimeSerie[\"timestamp\"] = dfTimeSerie[\"DateTime\"].dt.time\n",
    "        \n",
    "        # berechnen der rollierenden Energie sowie masse über 24 Stunden\n",
    "        dfTimeSerie[\"rollingEnergy24h\"] = dfTimeSerie[\"energy\"].rolling(24, min_periods=1).sum()\n",
    "        dfTimeSerie[\"rollingmass24h\"] = dfTimeSerie[\"mass\"].rolling(24, min_periods=1).sum()\n",
    "\n",
    "\n",
    "        # Berechnung ob Durchbrüche beobachtet wurden mittels Durchbruchkriterien\n",
    "        dfTimeSerie[\"BreachEnergy\"] = np.where(dfTimeSerie[\"energy\"] >= 1000, 1, 0)\n",
    "        dfTimeSerie[\"BreachFullNet\"] = np.where((dfTimeSerie[\"energy\"] >= 500) & (dfTimeSerie[\"rollingmass24h\"] >= 2000), 1, 0)\n",
    "        return dfTimeSerie   "
   ]
  },
  {
   "cell_type": "markdown",
   "metadata": {},
   "source": [
    "## Aufbereitung der Daten"
   ]
  },
  {
   "cell_type": "code",
   "execution_count": 3,
   "metadata": {},
   "outputs": [],
   "source": [
    "# Initieren von Datenframe\n",
    "listfeatures_samples = pd.DataFrame()\n",
    "# Lesen des CSV's\n",
    "mergedDataFile = ReadDataframe()\n",
    "# Bereinigungen und Berechnungen der Datenframes ausführen\n",
    "mergedDataFile = CalculateandUpdateColumns(mergedDataFile)\n",
    "# Berechnen der Zeitunterschiede\n",
    "mergedDataFile = CalculateTimeDeltaHours(mergedDataFile)\n",
    "# Bereinigungen und Berechnungen der Datenframes für Plots ausführen\n",
    "dfTimeSerie = TimeSeriePlots(mergedDataFile)\n",
    "\n",
    "# Splitten in Zone 1 und Zone 2\n",
    "dataFile1 = mergedDataFile.loc[mergedDataFile['zone'] == \"1\"]\n",
    "dataFile2 = mergedDataFile.loc[mergedDataFile['zone'] == \"2\"]"
   ]
  },
  {
   "cell_type": "markdown",
   "metadata": {},
   "source": [
    "## Verteilungsfitting "
   ]
  },
  {
   "cell_type": "code",
   "execution_count": 4,
   "metadata": {},
   "outputs": [
    {
     "data": {
      "image/png": "[encoded data removed]",
      "text/plain": [
       "<Figure size 432x288 with 1 Axes>"
      ]
     },
     "metadata": {
      "needs_background": "light"
     },
     "output_type": "display_data"
    },
    {
     "name": "stdout",
     "output_type": "stream",
     "text": [
      "Die folgenden Verteilungen der Spalte Masse Zone 1 wurden geprüft und fitten am besten in absteigender Reihenfolge:\n",
      "expon: pvalue=0.11243165125691623\n",
      "gamma: pvalue=0.11760617507322291\n",
      "cauchy: pvalue=0.1801401376182128\n",
      "logistic: pvalue=0.18169255347020843\n",
      "norm: pvalue=0.2414309639409059\n",
      "uniform: pvalue=0.5275093219694087\n"
     ]
    },
    {
     "data": {
      "image/png": "[encoded data removed]",
      "text/plain": [
       "<Figure size 432x288 with 1 Axes>"
      ]
     },
     "metadata": {
      "needs_background": "light"
     },
     "output_type": "display_data"
    },
    {
     "name": "stdout",
     "output_type": "stream",
     "text": [
      "Die folgenden Verteilungen der Spalte Masse Zone 2 wurden geprüft und fitten am besten in absteigender Reihenfolge:\n",
      "expon: pvalue=0.14782678488159295\n",
      "cauchy: pvalue=0.18430641176211526\n",
      "logistic: pvalue=0.2007862539643812\n",
      "gamma: pvalue=0.2186223695992287\n",
      "norm: pvalue=0.2734792372426059\n",
      "uniform: pvalue=0.4978448275862069\n"
     ]
    }
   ],
   "source": [
    "# Fitten und Plotten von Massen Verteilungen\n",
    "FindmostfittingDistribution(\"Masse Zone 1\",dataFile1[\"mass\"])\n",
    "FindmostfittingDistribution(\"Masse Zone 2\",dataFile2[\"mass\"])"
   ]
  },
  {
   "cell_type": "code",
   "execution_count": 5,
   "metadata": {},
   "outputs": [
    {
     "data": {
      "image/png": "[encoded data removed]",
      "text/plain": [
       "<Figure size 432x288 with 1 Axes>"
      ]
     },
     "metadata": {
      "needs_background": "light"
     },
     "output_type": "display_data"
    },
    {
     "name": "stdout",
     "output_type": "stream",
     "text": [
      "Die folgenden Verteilungen der Spalte Geschwindigkeit Zone 1 wurden geprüft und fitten am besten in absteigender Reihenfolge:\n",
      "norm: pvalue=0.05935470523940989\n",
      "logistic: pvalue=0.05996742225913976\n",
      "gamma: pvalue=0.06380655088791254\n",
      "cauchy: pvalue=0.08213316837233586\n",
      "uniform: pvalue=0.20266106442577037\n",
      "expon: pvalue=0.3321926521972434\n"
     ]
    },
    {
     "data": {
      "image/png": "[encoded data removed]",
      "text/plain": [
       "<Figure size 432x288 with 1 Axes>"
      ]
     },
     "metadata": {
      "needs_background": "light"
     },
     "output_type": "display_data"
    },
    {
     "name": "stdout",
     "output_type": "stream",
     "text": [
      "Die folgenden Verteilungen der Spalte Geschwindigkeit Zone 2 wurden geprüft und fitten am besten in absteigender Reihenfolge:\n",
      "norm: pvalue=0.10464125364475385\n",
      "gamma: pvalue=0.11342375284786921\n",
      "logistic: pvalue=0.11663594484492207\n",
      "cauchy: pvalue=0.14261401090149683\n",
      "uniform: pvalue=0.22106481481481483\n",
      "expon: pvalue=0.3161806174860554\n"
     ]
    }
   ],
   "source": [
    "# Fitten und Plotten von Geschwindigkeits Verteilungen\n",
    "FindmostfittingDistribution(\"Geschwindigkeit Zone 1\",dataFile1[\"velocity\"])\n",
    "FindmostfittingDistribution(\"Geschwindigkeit Zone 2\",dataFile2[\"velocity\"])"
   ]
  },
  {
   "cell_type": "code",
   "execution_count": 6,
   "metadata": {},
   "outputs": [
    {
     "data": {
      "image/png": "[encoded data removed]",
      "text/plain": [
       "<Figure size 432x288 with 1 Axes>"
      ]
     },
     "metadata": {
      "needs_background": "light"
     },
     "output_type": "display_data"
    },
    {
     "name": "stdout",
     "output_type": "stream",
     "text": [
      "Die folgenden Verteilungen der Spalte Zeit vor Steinen Zone 1 wurden geprüft und fitten am besten in absteigender Reihenfolge:\n",
      "expon: pvalue=0.11605109133166369\n",
      "norm: pvalue=0.13728449484558025\n",
      "gamma: pvalue=0.13949129784027292\n",
      "logistic: pvalue=0.15100739323840795\n",
      "cauchy: pvalue=0.23167911493976678\n",
      "uniform: pvalue=0.35163977095262877\n"
     ]
    },
    {
     "data": {
      "image/png": "[encoded data removed]",
      "text/plain": [
       "<Figure size 432x288 with 1 Axes>"
      ]
     },
     "metadata": {
      "needs_background": "light"
     },
     "output_type": "display_data"
    },
    {
     "name": "stdout",
     "output_type": "stream",
     "text": [
      "Die folgenden Verteilungen der Spalte Zeit vor Steinen Zone 2 wurden geprüft und fitten am besten in absteigender Reihenfolge:\n",
      "gamma: pvalue=0.07967496966622939\n",
      "expon: pvalue=0.12449087491280508\n",
      "logistic: pvalue=0.12893665228294315\n",
      "norm: pvalue=0.16468953585356227\n",
      "cauchy: pvalue=0.175119749970919\n",
      "uniform: pvalue=0.39917452830188677\n"
     ]
    }
   ],
   "source": [
    "# Fitten und Plotten der zeitlichen Ablösungen \n",
    "FindmostfittingDistribution(\"Zeit vor Steinen Zone 1\",dataFile1[\"TimebeforeStone\"])\n",
    "FindmostfittingDistribution(\"Zeit vor Steinen Zone 2\",dataFile2[\"TimebeforeStone\"])"
   ]
  },
  {
   "cell_type": "markdown",
   "metadata": {},
   "source": [
    "### Eigenschaftsübersicht der Beobachtungen\n",
    "In der Zone 1 wurden 68 Steine beobachtet und in der Zone 2 waren es 32 Beobachtungen."
   ]
  },
  {
   "cell_type": "code",
   "execution_count": 7,
   "metadata": {},
   "outputs": [
    {
     "data": {
      "image/png": "[encoded data removed]",
      "text/plain": [
       "<Figure size 432x288 with 1 Axes>"
      ]
     },
     "metadata": {
      "needs_background": "light"
     },
     "output_type": "display_data"
    }
   ],
   "source": [
    "# Boxplot der Massen pro Zone\n",
    "mergedDataFile.boxplot(column=\"mass\", by=\"zone\")\n",
    "plt.title(\"Boxplot der Masse in kg nach Ablösungszone\")\n",
    "plt.suptitle(\" \")\n",
    "plt.xlabel(\"Ablösungszone\")\n",
    "plt.ylabel(\"Masse in kg\")\n",
    "plt.show()"
   ]
  },
  {
   "cell_type": "code",
   "execution_count": 8,
   "metadata": {},
   "outputs": [
    {
     "data": {
      "image/png": "[encoded data removed]",
      "text/plain": [
       "<Figure size 432x288 with 1 Axes>"
      ]
     },
     "metadata": {
      "needs_background": "light"
     },
     "output_type": "display_data"
    }
   ],
   "source": [
    "# Boxplot der Geschwindigkeiten pro Zone\n",
    "mergedDataFile.boxplot(column=\"velocity\", by=\"zone\")\n",
    "plt.title(\"Boxplot der Geschwindigkeit in ms nach Ablösungszone\")\n",
    "plt.suptitle(\" \")\n",
    "plt.xlabel(\"Ablösungszone\")\n",
    "plt.ylabel(\"Geschwindigkeit in m/s\")\n",
    "plt.show()"
   ]
  },
  {
   "cell_type": "code",
   "execution_count": 9,
   "metadata": {},
   "outputs": [
    {
     "data": {
      "image/png": "[encoded data removed]",
      "text/plain": [
       "<Figure size 432x288 with 1 Axes>"
      ]
     },
     "metadata": {
      "needs_background": "light"
     },
     "output_type": "display_data"
    }
   ],
   "source": [
    "# Boxplot der Energie pro Zone\n",
    "mergedDataFile.boxplot(column=\"energy\", by=\"zone\")\n",
    "plt.title(\"Boxplot der kinetischen Energie in kJ nach Ablösungszone\")\n",
    "plt.suptitle(\" \")\n",
    "plt.xlabel(\"Ablösungszone\")\n",
    "plt.ylabel(\"Energie in Kilojoule\")\n",
    "plt.show()"
   ]
  },
  {
   "cell_type": "code",
   "execution_count": 10,
   "metadata": {},
   "outputs": [
    {
     "data": {
      "image/png": "[encoded data removed]",
      "text/plain": [
       "<Figure size 432x288 with 1 Axes>"
      ]
     },
     "metadata": {
      "needs_background": "light"
     },
     "output_type": "display_data"
    }
   ],
   "source": [
    "# Scatterplot der gefallenen Steine pro Stunde an einem Tag (0h-24h)\n",
    "ScatterplotTime = mergedDataFile.groupby(['timestamp']).agg({'Trigger': 'sum'})\n",
    "plt.scatter(ScatterplotTime.index, ScatterplotTime['Trigger'])\n",
    "plt.xticks([\"00:00\", \"04:00\", \"08:00\", \"12:00\", \"16:00\", \"20:00\", \"24:00\"])\n",
    "plt.title(\"Übersicht der Anzahl Steine pro Stunde\")\n",
    "plt.xlabel(\"Uhrzeit\")\n",
    "plt.ylabel(\"Summe der Steine\")\n",
    "plt.show()"
   ]
  },
  {
   "cell_type": "code",
   "execution_count": 11,
   "metadata": {},
   "outputs": [
    {
     "data": {
      "image/png": "[encoded data removed]",
      "text/plain": [
       "<Figure size 432x288 with 1 Axes>"
      ]
     },
     "metadata": {
      "needs_background": "light"
     },
     "output_type": "display_data"
    }
   ],
   "source": [
    "# Scatterplot der gefallenen Steine pro Tag (01.01.2019 - 01.04.2019)\n",
    "ScatterplotDate = mergedDataFile.groupby(mergedDataFile['DateTime'].dt.date).agg({'Trigger': 'sum'})\n",
    "plt.scatter(ScatterplotDate.index, ScatterplotDate['Trigger'])\n",
    "plt.xticks([\"2019-01-01 00:00:00\", \"2019-02-01 00:00:00\",\"2019-03-01 00:00:00\", \"2019-04-01 00:00:00\"])\n",
    "plt.title(\"Summe der Anzahl Steine pro Tag\")\n",
    "plt.xlabel(\"Datum\")\n",
    "plt.ylabel(\"Summe der Steine\")\n",
    "plt.show()"
   ]
  },
  {
   "cell_type": "code",
   "execution_count": 12,
   "metadata": {},
   "outputs": [
    {
     "data": {
      "image/png": "[encoded data removed]",
      "text/plain": [
       "<Figure size 432x288 with 1 Axes>"
      ]
     },
     "metadata": {
      "needs_background": "light"
     },
     "output_type": "display_data"
    }
   ],
   "source": [
    "# Scatterplot der Summe der Masse pro Tag (01.01.2019 - 01.04.2019)\n",
    "ScatterplotMass = dfTimeSerie.groupby(dfTimeSerie['DateTime'].dt.date).agg({'rollingmass24h': 'sum'})\n",
    "plt.scatter(ScatterplotMass.index, ScatterplotMass['rollingmass24h'])\n",
    "plt.xticks([\"2019-01-01 00:00:00\", \"2019-02-01 00:00:00\",\"2019-03-01 00:00:00\", \"2019-04-01 00:00:00\"])\n",
    "plt.title(\"Summe der Masse pro Tag\")\n",
    "plt.xlabel(\"Datum\")\n",
    "plt.ylabel(\"Summe der Masse\")\n",
    "plt.show()"
   ]
  },
  {
   "cell_type": "code",
   "execution_count": 13,
   "metadata": {},
   "outputs": [
    {
     "data": {
      "image/png": "[encoded data removed]",
      "text/plain": [
       "<Figure size 432x288 with 1 Axes>"
      ]
     },
     "metadata": {
      "needs_background": "light"
     },
     "output_type": "display_data"
    }
   ],
   "source": [
    "# Scatterplot der Summe der Energie pro Tag (01.01.2019 - 01.04.2019)\n",
    "ScatterplotEnergy = mergedDataFile.groupby(mergedDataFile[\"DateTime\"].dt.date).agg({'energy': 'sum'})\n",
    "plt.scatter(ScatterplotEnergy.index, ScatterplotEnergy['energy'])\n",
    "plt.xticks([\"2019-01-01 00:00:00\", \"2019-02-01 00:00:00\",\"2019-03-01 00:00:00\", \"2019-04-01 00:00:00\"])\n",
    "plt.title(\"Summe der Energie pro Tag\")\n",
    "plt.xlabel(\"Datum\")\n",
    "plt.ylabel(\"Summe der Energie\")\n",
    "plt.show()"
   ]
  },
  {
   "cell_type": "markdown",
   "metadata": {},
   "source": [
    "Nachdem die Grundlage geschaffen wurde, haben wir die Monte Carlo Simulationen für beide Zonen durchgeführt."
   ]
  },
  {
   "cell_type": "code",
   "execution_count": 14,
   "metadata": {},
   "outputs": [],
   "source": [
    "# Definition der Verteilungsinformationen für die Zonen aus dem vorherigen Fitting\n",
    "listfeatures_distributions_zone1 = [[\"mass\", \"exponential\"], [\"velocity\", \"normal\"], [\"TimebeforeStone\", \"exponential\"]]\n",
    "listfeatures_distributions_zone2 = [[\"mass\", \"exponential\"], [\"velocity\", \"normal\"], [\"TimebeforeStone\", \"gamma\"]]\n",
    "\n",
    "# Mainloop for Monte Carlo Sim\n",
    "# Zone 1\n",
    "listfeatures_samples_zone_1 = pd.DataFrame()\n",
    "zoneindex = 0\n",
    "\n",
    "for featureDistribution in listfeatures_distributions_zone1:\n",
    "    zoneindex = 1\n",
    "    if (featureDistribution[1] == \"exponential\"):\n",
    "        # Verteilungsparameter bestimmen\n",
    "        meanExponential1 = mean(dataFile1[featureDistribution[0]])\n",
    "        # Generieren von samples die exponential verteilt sind\n",
    "        rng = default_rng()\n",
    "        sample = rng.exponential(meanExponential1,size=sizeMonteCarloSimZone1)\n",
    "        # Generierte Werte ins Datenframe hinzufügen\n",
    "        listfeatures_samples_zone_1[featureDistribution[0]] = sample\n",
    "\n",
    "    elif(featureDistribution[1] == \"normal\"):\n",
    "        # Verteilungsparameter bestimmen\n",
    "        meanNormal1 = mean(dataFile1[featureDistribution[0]])\n",
    "        stdNormal1 = np.std(dataFile1[featureDistribution[0]])\n",
    "        # Generieren von samples die normal verteilt sind\n",
    "        rng = default_rng()\n",
    "        sample = rng.normal(meanNormal1, stdNormal1,size=sizeMonteCarloSimZone1)\n",
    "        # Generierte Werte ins Datenframe hinzufügen\n",
    "        listfeatures_samples_zone_1[featureDistribution[0]] = sample\n",
    "\n",
    "    elif(featureDistribution[1] == \"gamma\"):\n",
    "        # Verteilungsparameter bestimmen\n",
    "        meanGamma1 = mean(dataFile1[featureDistribution[0]])\n",
    "        # Generieren von samples die gamma verteilt sind\n",
    "        rng = default_rng()\n",
    "        sample = rng.gamma(meanGamma1, size=sizeMonteCarloSimZone1)\n",
    "        # Generierte Werte ins Datenframe hinzufügen\n",
    "        listfeatures_samples_zone_1[featureDistribution[0]] = sample\n",
    "\n",
    "# Zone 2\n",
    "listfeatures_samples_zone_2 = pd.DataFrame()\n",
    "zoneindex = 0\n",
    "\n",
    "for featureDistribution in listfeatures_distributions_zone2:\n",
    "    zoneindex = 2\n",
    "    if (featureDistribution[1] == \"exponential\"):\n",
    "        # Verteilungsparameter bestimmen\n",
    "        meanExponential2 = mean(dataFile2[featureDistribution[0]])\n",
    "        # Generieren von samples die exponential verteilt sind\n",
    "        rng = default_rng()\n",
    "        sample = rng.exponential(meanExponential2, size=sizeMonteCarloSimZone2)\n",
    "        # Generierte Werte ins Datenframe hinzufügen\n",
    "        listfeatures_samples_zone_2[featureDistribution[0]] = sample\n",
    "\n",
    "    elif(featureDistribution[1] == \"normal\"):\n",
    "        # Verteilungsparameter bestimmen\n",
    "        meanNormal2 = mean(dataFile2[featureDistribution[0]])\n",
    "        stdNormal2 = np.std(dataFile2[featureDistribution[0]])\n",
    "        # Generieren von samples die normal verteilt sind\n",
    "        rng = default_rng()\n",
    "        sample = rng.normal(meanNormal2, stdNormal2,size=sizeMonteCarloSimZone2)\n",
    "        # Generierte Werte ins Datenframe hinzufügen\n",
    "        listfeatures_samples_zone_2[featureDistribution[0]] = sample\n",
    "\n",
    "    elif(featureDistribution[1] == \"gamma\"):\n",
    "        # Verteilungsparameter bestimmen\n",
    "        meanGamma2 = mean(dataFile2[featureDistribution[0]])\n",
    "        # Generieren von samples die gamma verteilt sind\n",
    "        rng = default_rng()\n",
    "        sample = rng.gamma(meanGamma2, size=sizeMonteCarloSimZone2)\n",
    "        # Generierte Werte ins Datenframe hinzufügen\n",
    "        listfeatures_samples_zone_2[featureDistribution[0]] = sample\n"
   ]
  },
  {
   "cell_type": "markdown",
   "metadata": {},
   "source": [
    "Nach der Simulation der Daten, wurden diese zusammengeführt, verarbeitet und die Anzahl Netzdurchschläge berechnet."
   ]
  },
  {
   "cell_type": "code",
   "execution_count": 15,
   "metadata": {},
   "outputs": [
    {
     "name": "stdout",
     "output_type": "stream",
     "text": [
      "Anzahl simulierter Jahre: 117297.0\n",
      "Anzahl Durchbrüche nach vollem Netz: 936\n",
      "Anzahl direkter Durchbrüche: 327\n"
     ]
    }
   ],
   "source": [
    "# Berechnung der Energie der simulierten Steinschläge pro Zone\n",
    "listfeatures_samples_zone_1['energy'] = ((listfeatures_samples_zone_1['mass']/2)*(listfeatures_samples_zone_1['velocity']**2) / 1000)\n",
    "listfeatures_samples_zone_2['energy'] = ((listfeatures_samples_zone_2['mass']/2)*(listfeatures_samples_zone_2['velocity']**2) / 1000)\n",
    "\n",
    "# Markierung der Steine, die mit der Energie das Netz durchschlagen haben\n",
    "listfeatures_samples_zone_1['direct_breakthrough'] = np.where((listfeatures_samples_zone_1[\"energy\"] >= 1000), 1, 0)\n",
    "listfeatures_samples_zone_2['direct_breakthrough'] = np.where((listfeatures_samples_zone_2[\"energy\"] >= 1000), 1, 0)\n",
    "\n",
    "# Hinzufügen der Zone als Spalte\n",
    "listfeatures_samples_zone_1['Zone'] = 1\n",
    "listfeatures_samples_zone_2['Zone'] = 2\n",
    "\n",
    "# Kumulierte Summe der Zeitdifferenzen berechnen \n",
    "listfeatures_samples_zone_1[\"CumsumHoursbeforeStone\"] = listfeatures_samples_zone_1[\"TimebeforeStone\"].cumsum()\n",
    "listfeatures_samples_zone_2[\"CumsumHoursbeforeStone\"] = listfeatures_samples_zone_2[\"TimebeforeStone\"].cumsum()\n",
    "\n",
    "# Kombinieren beider Sample Datenframes\n",
    "listfeatures_samples = listfeatures_samples_zone_1.append(listfeatures_samples_zone_2, ignore_index=True)\n",
    "\n",
    "# Sortieren und Index neu setzen\n",
    "listfeatures_samples = listfeatures_samples.sort_values(by='CumsumHoursbeforeStone')\n",
    "listfeatures_samples = listfeatures_samples.reset_index(drop=True)\n",
    "\n",
    "# Definition des Jahres in welcher der Stein gefallen ist (365d * 24h)\n",
    "listfeatures_samples[\"Year\"] = listfeatures_samples['CumsumHoursbeforeStone'].floordiv(8760)\n",
    "\n",
    "\n",
    "# Berechnet, wieviel Masse pro Tag im Netz ist\n",
    "listfeatures_samples[\"Tag\"] = listfeatures_samples['CumsumHoursbeforeStone'] // 24\n",
    "Netzvoll = listfeatures_samples.groupby(\"Tag\")[\"mass\"].agg(\"sum\")\n",
    "Netzvoll = pd.DataFrame({'Tag': Netzvoll.index, 'Tagesmasse': Netzvoll.values})\n",
    "listfeatures_samples = listfeatures_samples.merge(Netzvoll, how=\"left\", on=\"Tag\")\n",
    "listfeatures_samples[\"PossibleBreachFullNet\"] = np.where((listfeatures_samples[\"energy\"] >= 500) & (listfeatures_samples[\"Tagesmasse\"] >= 2000), 1, 0)\n",
    "\n",
    "\n",
    "CountBreachFullNet = 0\n",
    "ListPossibleBrechFullNet = listfeatures_samples[listfeatures_samples[\"PossibleBreachFullNet\"] == 1]\n",
    "ListPossibleBrechFullNet = ListPossibleBrechFullNet.reset_index()\n",
    "for i in range(len(ListPossibleBrechFullNet)):\n",
    "    Day = ListPossibleBrechFullNet.loc[i, \"Tag\"]\n",
    "    ToCheck = listfeatures_samples[listfeatures_samples[\"Tag\"] == Day]\n",
    "    ToCheck = ToCheck.reset_index()\n",
    "    ToCheck[\"CumsumMass\"] = ToCheck[\"mass\"].shift().cumsum()\n",
    "    for i in range(len(ToCheck)):\n",
    "        if ToCheck.loc[i, \"direct_breakthrough\"] == 1:\n",
    "            break  # break weil wenn das Netz durchbrochen ist, die Strasse gesperrt wird\n",
    "        else:\n",
    "            if (ToCheck.loc[i, \"energy\"] >= 500) & (ToCheck.loc[i, \"CumsumMass\"] >= 2000):\n",
    "                CountBreachFullNet += 1\n",
    "                break\n",
    "\n",
    "# Ausgabe der Simulationensresultate\n",
    "print(\"Anzahl simulierter Jahre:\", listfeatures_samples[\"Year\"].max())\n",
    "print(\"Anzahl Durchbrüche nach vollem Netz:\", CountBreachFullNet)\n",
    "print(\"Anzahl direkter Durchbrüche:\",listfeatures_samples[\"direct_breakthrough\"].sum())\n"
   ]
  },
  {
   "cell_type": "markdown",
   "metadata": {},
   "source": [
    "## Netzdurchbruch Wahrscheinlichkeit pro Jahr"
   ]
  },
  {
   "cell_type": "code",
   "execution_count": 16,
   "metadata": {},
   "outputs": [
    {
     "name": "stdout",
     "output_type": "stream",
     "text": [
      "0.0107675388\n"
     ]
    }
   ],
   "source": [
    "# Alle Durchbrüche berechnen\n",
    "AllBreaches = float(CountBreachFullNet + listfeatures_samples[\"direct_breakthrough\"].sum())\n",
    "# Alle simulierten Jahre\n",
    "MaxYears = float(listfeatures_samples[\"Year\"].max())\n",
    "\n",
    "# Wahrscheinlichkeit von einem Durchbruch pro Jahr\n",
    "ProbabilityNetBreach = AllBreaches / MaxYears\n",
    "print('{0:.10f}'.format(ProbabilityNetBreach))"
   ]
  },
  {
   "cell_type": "markdown",
   "metadata": {},
   "source": [
    "## Auto Wahrscheinlichkeit pro Stunde\n",
    "\n",
    "In diesem Schritt wurde die Anzahl Durchfahrten pro Stunde berechnet."
   ]
  },
  {
   "cell_type": "code",
   "execution_count": 17,
   "metadata": {},
   "outputs": [
    {
     "name": "stdout",
     "output_type": "stream",
     "text": [
      "50.0000000000\n"
     ]
    }
   ],
   "source": [
    "# Autos pro Stunde\n",
    "ProbabilityCar = 1200/24\n",
    "print('{0:.10f}'.format(ProbabilityCar))"
   ]
  },
  {
   "cell_type": "markdown",
   "metadata": {
    "citation-manager": {
     "citations": {
      "y2hoh": [
       {
        "id": "11379280/LXA3827G",
        "source": "zotero"
       }
      ]
     }
    },
    "tags": []
   },
   "source": [
    "## Wahrscheinlichkeit Autoaufprall\n",
    "Der Bremsweg einer Gefahrenbremsung eines Fahrzeugs ist berechenbar durch die Formel ((Geschwindigkeit in km/h : 10) x (Geschwindigkeit in km/h : 10) / 2 ) <cite id=\"y2hoh\">(Gebhardt, 2018)</cite>."
   ]
  },
  {
   "cell_type": "code",
   "execution_count": 18,
   "metadata": {},
   "outputs": [
    {
     "name": "stdout",
     "output_type": "stream",
     "text": [
      "0.0003733333\n"
     ]
    }
   ],
   "source": [
    "# Geschwindigkeit eines Autos in m/s\n",
    "VelocityCarMs = 60 / 3.6\n",
    "# Geschwindigkeit eines Autos in m/s\n",
    "VelocityCar = 60\n",
    "# Bremsweg definieren (Vollbremse = Bremsweg/2)\n",
    "BrakeWay = (VelocityCar / 10) * (VelocityCar / 10) / 2\n",
    "# Autolänge definieren\n",
    "AutoLength = 4.4\n",
    "\n",
    "# Gefahrenzone für ein Auto welches durchfährt\n",
    "DangerZone = BrakeWay + AutoLength\n",
    "\n",
    "\n",
    "# Wahrscheinlichkeit für ein Auto in der Gefahrenzone zu sein pro Tag\n",
    "ProbabilityCarImpact = (DangerZone / VelocityCarMs) / (60*60)\n",
    "print('{0:.10f}'.format(ProbabilityCarImpact))"
   ]
  },
  {
   "cell_type": "markdown",
   "metadata": {
    "citation-manager": {
     "citations": {
      "iyuia": [
       {
        "id": "11379280/P8Q8ITK8",
        "source": "zotero"
       }
      ]
     }
    },
    "tags": []
   },
   "source": [
    "## Todesfall Wahrscheinlichkeit bei Aufprall\n",
    "Nach dem Bericht der Eidgenössischen Forschungsanstalt für Wald, Schnee und Landschaft <cite id=\"iyuia\">(Gerber, 2019)</cite> verunfallen 4/14 Personen tödlich auf Hauptstrassen im Zusammenhang mit einem Steinschlag.\n"
   ]
  },
  {
   "cell_type": "code",
   "execution_count": 19,
   "metadata": {},
   "outputs": [
    {
     "name": "stdout",
     "output_type": "stream",
     "text": [
      "0.2857142857\n"
     ]
    }
   ],
   "source": [
    "# Wahrscheinlichkeit das ein Verunfallter stirbt\n",
    "ProbabilityDeath = float(4/14)\n",
    "print('{0:.10f}'.format(ProbabilityDeath))"
   ]
  },
  {
   "cell_type": "markdown",
   "metadata": {
    "citation-manager": {
     "citations": {
      "epsn8": [
       {
        "id": "11379280/5YH5QKQ5",
        "source": "zotero"
       }
      ]
     }
    },
    "tags": []
   },
   "source": [
    "## Durchschnittspassagiere\n",
    "\n",
    "Die Durchschnittspassagiere pro Fahrzeug wurden durch verschiedene Ämter in Graubünden <cite id=\"epsn8\">(Hartmann &#38; Walter, 2018)</cite>  in einem Zensus im Jahr 2018 als 1.66 erhoben.\n",
    "\n",
    "\n"
   ]
  },
  {
   "cell_type": "code",
   "execution_count": 20,
   "metadata": {},
   "outputs": [
    {
     "name": "stdout",
     "output_type": "stream",
     "text": [
      "1.6600000000\n"
     ]
    }
   ],
   "source": [
    "# Durschnittspassagiere pro Fahrzeug\n",
    "MeanPassengers = float(1.66)\n",
    "print('{0:.10f}'.format(MeanPassengers))"
   ]
  },
  {
   "cell_type": "markdown",
   "metadata": {},
   "source": [
    "Zuletzt haben wir die errechneten Wahrscheinlichkeiten verknüpft und mit den Vorgaben zur Strassensicherheit verglichen. Daraus abgeleitet wird die Empfehlung erstellt."
   ]
  },
  {
   "cell_type": "code",
   "execution_count": 21,
   "metadata": {},
   "outputs": [
    {
     "name": "stdout",
     "output_type": "stream",
     "text": [
      "Errechnete Wahrscheinlichkeit für einen Todesfall: 0.0000953286\n",
      "Zugelassene Wahrscheinlichkeit: 0.0001000000\n",
      "Wahrscheinlichkeitsgrenzwert 0.0001 nicht überschritten. Die Strasse kann offen bleiben!\n"
     ]
    }
   ],
   "source": [
    "#Berechnung Wahrscheinlichkeit für Todesfälle\n",
    "ProbabilityDeathCase = ProbabilityNetBreach  * ProbabilityCar * ProbabilityCarImpact * ProbabilityDeath * MeanPassengers\n",
    "\n",
    "print(\"Errechnete Wahrscheinlichkeit für einen Todesfall:\", '{0:.10f}'.format(ProbabilityDeathCase))\n",
    "print(\"Zugelassene Wahrscheinlichkeit:\", '{0:.10f}'.format(ProbabilityLimit))\n",
    "\n",
    "# Ausgabe der Entscheidung\n",
    "if AllBreaches == 0:\n",
    "    print(\"Keine Durchbrüche vorhanden. Die Simulationanzahl muss erhöht werden.\")\n",
    "\n",
    "if ProbabilityDeathCase >= ProbabilityLimit :\n",
    "    print(f\"Wahrscheinlichkeitsgrenzwert {ProbabilityLimit} überschritten.\")\n",
    "    \n",
    "else:\n",
    "    print(f\"Wahrscheinlichkeitsgrenzwert {ProbabilityLimit} nicht überschritten. Die Strasse kann offen bleiben!\")\n",
    "        "
   ]
  },
  {
   "cell_type": "markdown",
   "metadata": {},
   "source": [
    "## Mehrfache Ausführung der Simulation\n",
    "Um aufzuzeigen das der Randomness Faktor nicht zu gross ist kann die Simulation mehrfach ausgeführt werden."
   ]
  },
  {
   "cell_type": "code",
   "execution_count": 22,
   "metadata": {},
   "outputs": [
    {
     "name": "stdout",
     "output_type": "stream",
     "text": [
      "0.0000924628\n",
      "0.0001000000\n",
      "Wahrscheinlichkeitsgrenzwert 0.0001 nicht überschritten. Die Strasse kann offen bleiben!\n",
      "0.0000966971\n",
      "0.0001000000\n",
      "Wahrscheinlichkeitsgrenzwert 0.0001 nicht überschritten. Die Strasse kann offen bleiben!\n",
      "0.0000963894\n",
      "0.0001000000\n",
      "Wahrscheinlichkeitsgrenzwert 0.0001 nicht überschritten. Die Strasse kann offen bleiben!\n",
      "0.0000967619\n",
      "0.0001000000\n",
      "Wahrscheinlichkeitsgrenzwert 0.0001 nicht überschritten. Die Strasse kann offen bleiben!\n",
      "0.0000934448\n",
      "0.0001000000\n",
      "Wahrscheinlichkeitsgrenzwert 0.0001 nicht überschritten. Die Strasse kann offen bleiben!\n",
      "['0.0000924628', '0.0000966971', '0.0000963894', '0.0000967619', '0.0000934448']\n"
     ]
    }
   ],
   "source": [
    "import CheckDeviation as cd\n",
    "\n",
    "Iterations = 5\n",
    "SimSize = 50_000_000\n",
    "\n",
    "cd.Check(Iterations,SimSize)\n",
    "\n"
   ]
  },
  {
   "cell_type": "markdown",
   "metadata": {},
   "source": [
    "## Quellenverzeichnis\n",
    "\n",
    "<!-- BIBLIOGRAPHY START -->\n",
    "<div class=\"csl-bib-body\">\n",
    "  <div class=\"csl-entry\">Gebhardt, M. (2018, April 24). <i>Bremsweg-Formel: So geht die Berechnung!</i> autobild.de. https://www.autobild.de/artikel/bremsweg-formel-13443369.html#anchor_1</div>\n",
    "\n",
    "  <div class=\"csl-entry\">Gerber, W. (2019). <i>Naturgefahr_Steinschlag</i>. PDF Download. https://www.gr.ch/DE/Medien/Mitteilungen/MMStaka/2018/MedienDokumente/Bericht_Mikrozensus_2015_ohneAnhang.pdf</div>\n",
    "\n",
    "  <div class=\"csl-entry\">Hartmann, P., &#38; Walter, P. (2018, January 4). <i>Mikrozensus Graubünden</i>. PDF Download. https://www.gr.ch/DE/Medien/Mitteilungen/MMStaka/2018/MedienDokumente/Bericht_Mikrozensus_2015_ohneAnhang.pdf</div>\n",
    "\n",
    "</div>\n",
    "<!-- BIBLIOGRAPHY END -->"
   ]
  },
  {
   "cell_type": "code",
   "execution_count": null,
   "metadata": {},
   "outputs": [],
   "source": []
  }
 ],
 "metadata": {
  "citation-manager": {
   "items": {
    "zotero": {
     "11379280/5YH5QKQ5": {
      "URL": "https://www.gr.ch/DE/Medien/Mitteilungen/MMStaka/2018/MedienDokumente/Bericht_Mikrozensus_2015_ohneAnhang.pdf",
      "accessed": {
       "date-parts": [
        [
         2021,
         12,
         17
        ]
       ]
      },
      "author": [
       {
        "family": "Hartmann",
        "given": "Peter"
       },
       {
        "family": "Walter",
        "given": "Peng"
       }
      ],
      "container-title": "PDF Download",
      "id": "11379280/5YH5QKQ5",
      "issued": {
       "date-parts": [
        [
         2018,
         1,
         4
        ]
       ]
      },
      "language": "de",
      "title": "Mikrozensus Graubünden",
      "type": "webpage"
     },
     "11379280/LXA3827G": {
      "URL": "https://www.autobild.de/artikel/bremsweg-formel-13443369.html#anchor_1",
      "abstract": "Die Länge des Bremswegs ist von vielen Faktoren abhängig. AUTO BILD erklärt die Bremsweg-Formel und den Unterschied zum Anhalteweg.",
      "accessed": {
       "date-parts": [
        [
         2021,
         12,
         17
        ]
       ]
      },
      "author": [
       {
        "family": "Gebhardt",
        "given": "Michael"
       }
      ],
      "container-title": "autobild.de",
      "id": "11379280/LXA3827G",
      "issued": {
       "date-parts": [
        [
         2018,
         4,
         24
        ]
       ]
      },
      "language": "de",
      "shortTitle": "Bremsweg-Formel",
      "title": "Bremsweg-Formel: So geht die Berechnung!",
      "type": "webpage"
     },
     "11379280/P8Q8ITK8": {
      "URL": "https://www.gr.ch/DE/Medien/Mitteilungen/MMStaka/2018/MedienDokumente/Bericht_Mikrozensus_2015_ohneAnhang.pdf",
      "accessed": {
       "date-parts": [
        [
         2021,
         12,
         17
        ]
       ]
      },
      "author": [
       {
        "family": "Gerber",
        "given": "Werner"
       }
      ],
      "container-title": "PDF Download",
      "id": "11379280/P8Q8ITK8",
      "issued": {
       "date-parts": [
        [
         2019
        ]
       ]
      },
      "language": "de",
      "title": "Naturgefahr_Steinschlag",
      "type": "webpage"
     }
    }
   }
  },
  "kernelspec": {
   "display_name": "Python 3",
   "language": "python",
   "name": "python3"
  },
  "language_info": {
   "codemirror_mode": {
    "name": "ipython",
    "version": 3
   },
   "file_extension": ".py",
   "mimetype": "text/x-python",
   "name": "python",
   "nbconvert_exporter": "python",
   "pygments_lexer": "ipython3",
   "version": "3.8.5"
  }
 },
 "nbformat": 4,
 "nbformat_minor": 5
}
