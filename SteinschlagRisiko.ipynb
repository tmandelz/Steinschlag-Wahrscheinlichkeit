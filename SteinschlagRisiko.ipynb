{
 "cells": [
  {
   "cell_type": "code",
   "execution_count": 44,
   "id": "19feb59e",
   "metadata": {},
   "outputs": [
    {
     "data": {
      "text/plain": [
       "<AxesSubplot:>"
      ]
     },
     "execution_count": 44,
     "metadata": {},
     "output_type": "execute_result"
    },
    {
     "data": {
      "image/png": "[encoded data removed]",
      "text/plain": [
       "<Figure size 432x288 with 1 Axes>"
      ]
     },
     "metadata": {
      "needs_background": "light"
     },
     "output_type": "display_data"
    }
   ],
   "source": [
    "##Import Libraries\n",
    "import pandas as pd\n",
    "\n",
    "##Read first CSV File\n",
    "dataFile1 = pd.read_csv(\"out_1.csv\")\n",
    "##Read second CSV File\n",
    "dataFile2 = pd.read_csv(\"out_2.csv\")\n",
    "\n",
    "#Add Zone columns\n",
    "dataFile1['zone']='1'\n",
    "dataFile2['zone']='2'\n",
    "\n",
    "#Append File 2 to File 1\n",
    "mergedDataFile = dataFile1.append(dataFile2)\n",
    "\n",
    "#Add Energy in KJ column formula(KE=1/2mv^2)/1000 in m = kg and v = m/s\n",
    "mergedDataFile['energy']=((mergedDataFile['mass']/2)*(mergedDataFile['velocity']**2) / 1000)\n",
    "\n",
    "mergedDataFile\n",
    "\n",
    "\n",
    "\n",
    "mergedDataFile.boxplot()\n",
    "print(mergedDataFile)\n",
    "            \n",
    "            "
   ]
  }
 ],
 "metadata": {
  "kernelspec": {
   "display_name": "Python 3",
   "language": "python",
   "name": "python3"
  },
  "language_info": {
   "codemirror_mode": {
    "name": "ipython",
    "version": 3
   },
   "file_extension": ".py",
   "mimetype": "text/x-python",
   "name": "python",
   "nbconvert_exporter": "python",
   "pygments_lexer": "ipython3",
   "version": "3.9.7"
  }
 },
 "nbformat": 4,
 "nbformat_minor": 5
}