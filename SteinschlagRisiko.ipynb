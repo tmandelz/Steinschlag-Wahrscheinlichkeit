{
 "cells": [
  {
   "cell_type": "markdown",
   "id": "8fd3e379-020d-4943-b6b3-3bc45690861e",
   "metadata": {},
   "source": [
    "# Steinschlag Challenge HS21\n",
    "\n",
    "## Mitglieder\n",
    "- Julia Lobatón\n",
    "- Lukasz Gothszalk\n",
    "- Patrick Schürmann\n",
    "- Thomas Mandelz\n",
    "\n",
    "## Einführung\n",
    "\n",
    "Nachfolgend unsere Abgabe zur Steinschlag Challenge DS HS 2021.\n",
    "\n",
    "\n"
   ]
  },
  {
   "cell_type": "markdown",
   "id": "2c769f78-e2ee-46ad-be3a-47eadab52028",
   "metadata": {},
   "source": [
    "## Vorbereitung und Funktionsdefinition"
   ]
  },
  {
   "cell_type": "code",
   "execution_count": 44,
   "id": "006551b2-01a8-4dd1-9e0b-00c36fd60ac6",
   "metadata": {},
   "outputs": [
    {
     "name": "stdout",
     "output_type": "stream",
     "text": [
      "680000\n",
      "320000\n"
     ]
    }
   ],
   "source": [
    "# Import Bibliotheken\n",
    "from scipy import stats\n",
    "from statistics import mean\n",
    "import pandas as pd\n",
    "import numpy as np\n",
    "import matplotlib.pyplot as plt\n",
    "from numpy.random import default_rng\n",
    "\n",
    "# Globale Variablen\n",
    "# Anzahl Durchgänge in der Monte Carlo Simulation\n",
    "sizeMonteCarloSim = 2_000_000\n",
    "sizeMonteCarloSimZone1 = int(sizeMonteCarloSim * 0.68)\n",
    "sizeMonteCarloSimZone2 = int(sizeMonteCarloSim * 0.32)\n",
    "print(sizeMonteCarloSimZone1)\n",
    "print(sizeMonteCarloSimZone2)\n",
    "# Grenzwert der Wahrscheinlichkeit\n",
    "ProbabilityLimit = 10 ** -4\n",
    "\n",
    "\n",
    "# Pandas Warnungen ausblenden für Ketten Aufrufe\n",
    "pd.options.mode.chained_assignment = None  # default='warn'\n",
    "\n",
    "\n"
   ]
  },
  {
   "cell_type": "code",
   "execution_count": 45,
   "id": "bb4a05ce",
   "metadata": {},
   "outputs": [],
   "source": [
    "# Funktion welche eine Verteilungart fitten kann\n",
    "def FindmostfittingDistribution(ColumnName,MatrixColumn):\n",
    "\n",
    "    # Unterdrückt Division durch 0 Warnungen\n",
    "    with np.errstate(divide='ignore',invalid='ignore'):\n",
    "        # Liste von Verteilungen welche gefittet werden können\n",
    "        list_of_dists = ['cauchy','expon', 'logistic', 'norm','uniform','gamma']\n",
    "    \n",
    "        results = []\n",
    "        # Kolmogorov-Smirnov Test für jede Verteilung um den Typ zu finden\n",
    "        for i in list_of_dists:\n",
    "            dist = getattr(stats, i)\n",
    "            param = dist.fit(MatrixColumn)\n",
    "            a = stats.kstest(MatrixColumn, i, args=param)\n",
    "            results.append((i, a[0], a[1]))\n",
    "\n",
    "        # sortieren der Resultate nach Höchstem PWert\n",
    "        results.sort(key=lambda x: float(x[2]), reverse=True)\n",
    "        # Plotten von Verteilung\n",
    "        MatrixColumn.hist()\n",
    "        plt.title(f\"Histogram der Spalte: {ColumnName}\")\n",
    "        plt.xlabel(f\"{ColumnName}\")\n",
    "        plt.ylabel(\"Dichte\")\n",
    "        plt.show()\n",
    "        \n",
    "        # Ausgabe der Resultate\n",
    "        print(f\"Die folgenden Verteilungen der Spalte {ColumnName} wurden geprüft und fitten am besten in absteigender Reihenfolge:\")\n",
    "        for j in results:\n",
    "            print(\"{}: pvalue={}\".format(j[0], j[1], j[2]))\n",
    "        \n",
    "        \n",
    "\n",
    "# Funktion um die CSV's zu lesen\n",
    "def ReadDataframe():\n",
    "    # Lesen der ersten CSV Datei\n",
    "    dataFile1 = pd.read_csv(\"out_1.csv\")\n",
    "    # Lesen der zweiten CSV Datei\n",
    "    dataFile2 = pd.read_csv(\"out_2.csv\")\n",
    "\n",
    "    # Zonen werden als Spalte ergänzt\n",
    "    dataFile1['zone']='1'\n",
    "    dataFile2['zone']='2'\n",
    "\n",
    "    # Zusammenführen der beiden Zonen Datenframes\n",
    "    mergedDataFile = dataFile1.append(dataFile2)\n",
    "    return mergedDataFile\n",
    "\n",
    "# Funktion zur Berechnung eines Zeitunterschieds und Ergänzung der jeder Stunde im Datenframe als Row\n",
    "def CalculateTimeDeltaHours(zone):\n",
    "    # Auswahl der Zone\n",
    "    mergedDataFileZone = mergedDataFile.loc[mergedDataFile['zone'] == zone]\n",
    "    # Zeitunterschiede von einem Stein zum nächsten Berechnen \n",
    "    TimebeforeStone = mergedDataFileZone[\"DateTime\"].diff()\n",
    "    # Stunde dazwischen als Rows ergänzen\n",
    "    mergedDataFileZone[\"TimebeforeStone\"] = TimebeforeStone.astype('timedelta64[h]').fillna(0)\n",
    "    return mergedDataFileZone\n",
    "\n",
    "\n",
    "# Bereinigungen und Berechnungen der Datenframes\n",
    "def CalculateandUpdateColumns(mergedDataFile):\n",
    "    \n",
    "    #Energie mittels der Formel (KE=1/2mv^2)/1000 in m = kg und v = m/s -> Kj\n",
    "    mergedDataFile['energy']=((mergedDataFile['mass']/2)*(mergedDataFile['velocity']**2) / 1000)\n",
    "\n",
    "    # Auslöser Spalte ergänzen wenn ein Stein gefallen ist\n",
    "    mergedDataFile[\"Trigger\"] = np.where(mergedDataFile[\"zone\"] == 0, 0, 1) \n",
    "\n",
    "    # Umformatierung zum Datums Datentyp\n",
    "    mergedDataFile[\"DateTime\"] = pd.to_datetime(mergedDataFile['date'] + ' ' + mergedDataFile['timestamp'])\n",
    "\n",
    "    # Nach Datum ordnen\n",
    "    mergedDataFile = mergedDataFile.sort_values(by=['DateTime'])\n",
    "    mergedDataFile = mergedDataFile.reset_index(drop=True)\n",
    "    # Verschieben der Steine um eine Stunde welche zur gleichen Stunde fallen\n",
    "    mergedDataFile.loc[1, 'timestamp'] = \"10:00\"\n",
    "    mergedDataFile.loc[44, 'timestamp'] = \"13:00\"\n",
    "    mergedDataFile.loc[89, 'timestamp'] = \"13:00\"\n",
    "\n",
    "    # Update der Datumsspalte\n",
    "    mergedDataFile[\"DateTime\"] = pd.to_datetime(mergedDataFile['date'] + ' ' + mergedDataFile['timestamp'])\n",
    "\n",
    "    # Zeitunterschiede von einem Stein zum nächsten Berechnen und Stunden dazwischen als Rows ergänzen\n",
    "    mergedDataFileTemp = pd.DataFrame()\n",
    "    for zone in range(1,3):\n",
    "        mergedDataFileZone = CalculateTimeDeltaHours(str(zone))\n",
    "        mergedDataFileTemp = mergedDataFileTemp.append(mergedDataFileZone)\n",
    "    return mergedDataFileTemp\n",
    "\n",
    "# Funktion zur Erstellung der Timeserie für die Plots\n",
    "def TimeSeriePlots(mergedDataFile):\n",
    "        # Leere Stunden ergänzen\n",
    "        dfTimeSerie = mergedDataFile\n",
    "        dfTimeSerie = dfTimeSerie.set_index(mergedDataFile[\"DateTime\"])\n",
    "        dfTimeSerie = dfTimeSerie.resample('H').first().fillna(0)\n",
    "        dfTimeSerie['DateTime'] = dfTimeSerie.index\n",
    "\n",
    "        # Fehlende Tage und Stunden ergänzen\n",
    "        dfTimeSerie[\"date\"] = dfTimeSerie[\"DateTime\"].dt.date\n",
    "        dfTimeSerie[\"timestamp\"] = dfTimeSerie[\"DateTime\"].dt.time\n",
    "        \n",
    "        # berechnen der rollierenden Energie sowie masse über 24 Stunden\n",
    "        dfTimeSerie[\"rollingEnergy24h\"] = dfTimeSerie[\"energy\"].rolling(24, min_periods=1).sum()\n",
    "        dfTimeSerie[\"rollingmass24h\"] = dfTimeSerie[\"mass\"].rolling(24, min_periods=1).sum()\n",
    "\n",
    "\n",
    "        # Berechnung ob Durchbrüche beobachtet wurden mittels Durchbruchkriterien\n",
    "        dfTimeSerie[\"BreachEnergy\"] = np.where(dfTimeSerie[\"energy\"] >= 1000, 1, 0)\n",
    "        dfTimeSerie[\"BreachFullNet\"] = np.where((dfTimeSerie[\"energy\"] >= 500) & (dfTimeSerie[\"rollingmass24h\"] >= 2000), 1, 0)\n",
    "        return dfTimeSerie   "
   ]
  },
  {
   "cell_type": "markdown",
   "id": "21c3ed0c",
   "metadata": {},
   "source": [
    "## Aufbereitung der Daten"
   ]
  },
  {
   "cell_type": "code",
   "execution_count": 46,
   "id": "e85d3a8f-22a8-417d-8f46-0b39bd3f955c",
   "metadata": {},
   "outputs": [],
   "source": [
    "# Initieren von Datenframe\n",
    "listfeatures_samples = pd.DataFrame()\n",
    "# Lesen des CSV's\n",
    "mergedDataFile = ReadDataframe()\n",
    "# Bereinigungen und Berechnungen der Datenframes ausführen\n",
    "mergedDataFile = CalculateandUpdateColumns(mergedDataFile)\n",
    "# Bereinigungen und Berechnungen der Datenframes für Plots ausführen\n",
    "dfTimeSerie = TimeSeriePlots(mergedDataFile)\n",
    "\n",
    "# Splitten in Zone 1 und Zone 2\n",
    "dataFile1 = mergedDataFile.loc[mergedDataFile['zone'] == \"1\"]\n",
    "dataFile2 = mergedDataFile.loc[mergedDataFile['zone'] == \"2\"]"
   ]
  },
  {
   "cell_type": "markdown",
   "id": "716af5ad",
   "metadata": {},
   "source": [
    "## Verteilungsfitting \n"
   ]
  },
  {
   "cell_type": "code",
   "execution_count": 47,
   "id": "8fd873a5",
   "metadata": {},
   "outputs": [
    {
     "data": {
      "image/png": "[encoded data removed]",
      "text/plain": [
       "<Figure size 432x288 with 1 Axes>"
      ]
     },
     "metadata": {
      "needs_background": "light"
     },
     "output_type": "display_data"
    },
    {
     "name": "stdout",
     "output_type": "stream",
     "text": [
      "Die folgenden Verteilungen der Spalte Masse Zone 1 wurden geprüft und fitten am besten in absteigender Reihenfolge:\n",
      "expon: pvalue=0.11243165125691623\n",
      "gamma: pvalue=0.11760617507322291\n",
      "cauchy: pvalue=0.1801401376182128\n",
      "logistic: pvalue=0.18169255347020843\n",
      "norm: pvalue=0.2414309639409059\n",
      "uniform: pvalue=0.5275093219694087\n"
     ]
    },
    {
     "data": {
      "image/png": "[encoded data removed]",
      "text/plain": [
       "<Figure size 432x288 with 1 Axes>"
      ]
     },
     "metadata": {
      "needs_background": "light"
     },
     "output_type": "display_data"
    },
    {
     "name": "stdout",
     "output_type": "stream",
     "text": [
      "Die folgenden Verteilungen der Spalte Masse Zone 2 wurden geprüft und fitten am besten in absteigender Reihenfolge:\n",
      "expon: pvalue=0.14782678488159295\n",
      "cauchy: pvalue=0.18430641176211526\n",
      "logistic: pvalue=0.2007862539643812\n",
      "gamma: pvalue=0.2186223695992287\n",
      "norm: pvalue=0.2734792372426059\n",
      "uniform: pvalue=0.4978448275862069\n"
     ]
    }
   ],
   "source": [
    "# Fitten und Plotten von Massen Verteilungen\n",
    "FindmostfittingDistribution(\"Masse Zone 1\",dataFile1[\"mass\"])\n",
    "FindmostfittingDistribution(\"Masse Zone 2\",dataFile2[\"mass\"])"
   ]
  },
  {
   "cell_type": "code",
   "execution_count": 48,
   "id": "0b947d3f",
   "metadata": {},
   "outputs": [
    {
     "data": {
      "image/png": "[encoded data removed]",
      "text/plain": [
       "<Figure size 432x288 with 1 Axes>"
      ]
     },
     "metadata": {
      "needs_background": "light"
     },
     "output_type": "display_data"
    },
    {
     "name": "stdout",
     "output_type": "stream",
     "text": [
      "Die folgenden Verteilungen der Spalte Geschwindigkeit Zone 1 wurden geprüft und fitten am besten in absteigender Reihenfolge:\n",
      "norm: pvalue=0.05935470523940989\n",
      "logistic: pvalue=0.05996742225913976\n",
      "gamma: pvalue=0.06380655082115672\n",
      "cauchy: pvalue=0.08213316837233586\n",
      "uniform: pvalue=0.20266106442577037\n",
      "expon: pvalue=0.3321926521972434\n"
     ]
    },
    {
     "data": {
      "image/png": "[encoded data removed]",
      "text/plain": [
       "<Figure size 432x288 with 1 Axes>"
      ]
     },
     "metadata": {
      "needs_background": "light"
     },
     "output_type": "display_data"
    },
    {
     "name": "stdout",
     "output_type": "stream",
     "text": [
      "Die folgenden Verteilungen der Spalte Geschwindigkeit Zone 2 wurden geprüft und fitten am besten in absteigender Reihenfolge:\n",
      "norm: pvalue=0.10464125364475385\n",
      "gamma: pvalue=0.11342375284786921\n",
      "logistic: pvalue=0.11663594484492207\n",
      "cauchy: pvalue=0.14261401090149683\n",
      "uniform: pvalue=0.22106481481481483\n",
      "expon: pvalue=0.3161806174860554\n"
     ]
    }
   ],
   "source": [
    "# Fitten und Plotten von Geschwindigkeits Verteilungen\n",
    "FindmostfittingDistribution(\"Geschwindigkeit Zone 1\",dataFile1[\"velocity\"])\n",
    "FindmostfittingDistribution(\"Geschwindigkeit Zone 2\",dataFile2[\"velocity\"])"
   ]
  },
  {
   "cell_type": "code",
   "execution_count": 49,
   "id": "75e9a963",
   "metadata": {},
   "outputs": [
    {
     "data": {
      "image/png": "[encoded data removed]",
      "text/plain": [
       "<Figure size 432x288 with 1 Axes>"
      ]
     },
     "metadata": {
      "needs_background": "light"
     },
     "output_type": "display_data"
    },
    {
     "name": "stdout",
     "output_type": "stream",
     "text": [
      "Die folgenden Verteilungen der Spalte Zeit vor Steinen Zone 1 wurden geprüft und fitten am besten in absteigender Reihenfolge:\n",
      "expon: pvalue=0.11605109133166369\n",
      "gamma: pvalue=0.13643325644667392\n",
      "norm: pvalue=0.13756777053059283\n",
      "logistic: pvalue=0.15118948693200657\n",
      "cauchy: pvalue=0.23190106715700376\n",
      "uniform: pvalue=0.35163977095262877\n"
     ]
    },
    {
     "data": {
      "image/png": "[encoded data removed]",
      "text/plain": [
       "<Figure size 432x288 with 1 Axes>"
      ]
     },
     "metadata": {
      "needs_background": "light"
     },
     "output_type": "display_data"
    },
    {
     "name": "stdout",
     "output_type": "stream",
     "text": [
      "Die folgenden Verteilungen der Spalte Zeit vor Steinen Zone 2 wurden geprüft und fitten am besten in absteigender Reihenfolge:\n",
      "gamma: pvalue=0.07935560152544935\n",
      "expon: pvalue=0.12435655842487581\n",
      "logistic: pvalue=0.1287300431639467\n",
      "norm: pvalue=0.16489506269504894\n",
      "cauchy: pvalue=0.17483243919960684\n",
      "uniform: pvalue=0.39917452830188677\n"
     ]
    }
   ],
   "source": [
    "# Fitten und Plotten der zeitlichen Ablösungen \n",
    "FindmostfittingDistribution(\"Zeit vor Steinen Zone 1\",dataFile1[\"TimebeforeStone\"])\n",
    "FindmostfittingDistribution(\"Zeit vor Steinen Zone 2\",dataFile2[\"TimebeforeStone\"])"
   ]
  },
  {
   "cell_type": "markdown",
   "id": "da42ca58-067f-4d58-9dd2-31306e075d88",
   "metadata": {},
   "source": [
    "### Eigenschaftsübersicht der Beobachtungen\n",
    "In der Zone 1 wurden 68 Steine beobachtet und in der Zone 2 waren es 32 Beobachtungen."
   ]
  },
  {
   "cell_type": "code",
   "execution_count": 50,
   "id": "a00102fe",
   "metadata": {},
   "outputs": [
    {
     "data": {
      "image/png": "[encoded data removed]",
      "text/plain": [
       "<Figure size 432x288 with 1 Axes>"
      ]
     },
     "metadata": {
      "needs_background": "light"
     },
     "output_type": "display_data"
    }
   ],
   "source": [
    "# Boxplot der Massen pro Zone\n",
    "mergedDataFile.boxplot(column=\"mass\", by=\"zone\")\n",
    "plt.title(\"Boxplot der Masse in kg nach Ablösungszone\")\n",
    "plt.suptitle(\" \")\n",
    "plt.xlabel(\"Ablösungszone\")\n",
    "plt.ylabel(\"Masse in kg\")\n",
    "plt.show()"
   ]
  },
  {
   "cell_type": "code",
   "execution_count": 51,
   "id": "80971903-c1ea-47f3-94a0-e2bf1d2ef393",
   "metadata": {},
   "outputs": [
    {
     "data": {
      "image/png": "[encoded data removed]",
      "text/plain": [
       "<Figure size 432x288 with 1 Axes>"
      ]
     },
     "metadata": {
      "needs_background": "light"
     },
     "output_type": "display_data"
    }
   ],
   "source": [
    "# Boxplot der Geschwindigkeiten pro Zone\n",
    "mergedDataFile.boxplot(column=\"velocity\", by=\"zone\")\n",
    "plt.title(\"Boxplot der Geschwindigkeit in ms nach Ablösungszone\")\n",
    "plt.suptitle(\" \")\n",
    "plt.xlabel(\"Ablösungszone\")\n",
    "plt.ylabel(\"Geschwindigkeit in m/s\")\n",
    "plt.show()"
   ]
  },
  {
   "cell_type": "code",
   "execution_count": 52,
   "id": "0b32f89a-ad50-412e-8eb2-435ee4ab5ebd",
   "metadata": {},
   "outputs": [
    {
     "data": {
      "image/png": "[encoded data removed]",
      "text/plain": [
       "<Figure size 432x288 with 1 Axes>"
      ]
     },
     "metadata": {
      "needs_background": "light"
     },
     "output_type": "display_data"
    }
   ],
   "source": [
    "# Boxplot der Energie pro Zone\n",
    "mergedDataFile.boxplot(column=\"energy\", by=\"zone\")\n",
    "plt.title(\"Boxplot der kinetischen Energie in kJ nach Ablösungszone\")\n",
    "plt.suptitle(\" \")\n",
    "plt.xlabel(\"Ablösungszone\")\n",
    "plt.ylabel(\"Energie in Kilojoule\")\n",
    "plt.show()"
   ]
  },
  {
   "cell_type": "code",
   "execution_count": 53,
   "id": "df203de1-7b59-4bd4-93dc-fa6631812df5",
   "metadata": {},
   "outputs": [
    {
     "data": {
      "image/png": "[encoded data removed]",
      "text/plain": [
       "<Figure size 432x288 with 1 Axes>"
      ]
     },
     "metadata": {
      "needs_background": "light"
     },
     "output_type": "display_data"
    }
   ],
   "source": [
    "# Scatterplot der gefallenen Steine pro Stunde an einem Tag (0h-24h)\n",
    "ScatterplotTime = mergedDataFile.groupby(['timestamp']).agg({'Trigger': 'sum'})\n",
    "plt.scatter(ScatterplotTime.index, ScatterplotTime['Trigger'])\n",
    "plt.xticks([\"00:00\", \"04:00\", \"08:00\", \"12:00\", \"16:00\", \"20:00\", \"24:00\"])\n",
    "plt.title(\"Übersicht der Anzahl Steine pro Stunde\")\n",
    "plt.xlabel(\"Uhrzeit\")\n",
    "plt.ylabel(\"Summe der Steine\")\n",
    "plt.show()"
   ]
  },
  {
   "cell_type": "code",
   "execution_count": 54,
   "id": "e8e0565b-baa4-4499-bf33-d874211c9120",
   "metadata": {},
   "outputs": [
    {
     "data": {
      "image/png": "[encoded data removed]",
      "text/plain": [
       "<Figure size 432x288 with 1 Axes>"
      ]
     },
     "metadata": {
      "needs_background": "light"
     },
     "output_type": "display_data"
    }
   ],
   "source": [
    "# Scatterplot der gefallenen Steine pro Tag (01.01.2019 - 01.04.2019)\n",
    "ScatterplotDate = mergedDataFile.groupby(mergedDataFile['DateTime'].dt.date).agg({'Trigger': 'sum'})\n",
    "plt.scatter(ScatterplotDate.index, ScatterplotDate['Trigger'])\n",
    "plt.xticks([\"2019-01-01 00:00:00\", \"2019-02-01 00:00:00\",\"2019-03-01 00:00:00\", \"2019-04-01 00:00:00\"])\n",
    "plt.title(\"Summe der Anzahl Steine pro Tag\")\n",
    "plt.xlabel(\"Datum\")\n",
    "plt.ylabel(\"Summe der Steine\")\n",
    "plt.show()"
   ]
  },
  {
   "cell_type": "code",
   "execution_count": 55,
   "id": "42e27994-a1e8-4d24-9fa4-dd1791fdfcfe",
   "metadata": {},
   "outputs": [
    {
     "data": {
      "image/png": "[encoded data removed]",
      "text/plain": [
       "<Figure size 432x288 with 1 Axes>"
      ]
     },
     "metadata": {
      "needs_background": "light"
     },
     "output_type": "display_data"
    }
   ],
   "source": [
    "# Scatterplot der Summe der Masse pro Tag (01.01.2019 - 01.04.2019)\n",
    "plt.scatter(dfTimeSerie.index, dfTimeSerie['rollingmass24h'])\n",
    "plt.xticks([\"2019-01-01 00:00:00\", \"2019-02-01 00:00:00\",\"2019-03-01 00:00:00\", \"2019-04-01 00:00:00\"])\n",
    "plt.title(\"Summe der Masse pro Tag\")\n",
    "plt.xlabel(\"Datum\")\n",
    "plt.ylabel(\"Summe der Masse\")\n",
    "plt.show()"
   ]
  },
  {
   "cell_type": "code",
   "execution_count": 56,
   "id": "75585c7f-ea97-4204-ae4d-e05d114cfcdc",
   "metadata": {},
   "outputs": [
    {
     "data": {
      "image/png": "[encoded data removed]",
      "text/plain": [
       "<Figure size 432x288 with 1 Axes>"
      ]
     },
     "metadata": {
      "needs_background": "light"
     },
     "output_type": "display_data"
    }
   ],
   "source": [
    "# Scatterplot der Summe der Energie pro Tag (01.01.2019 - 01.04.2019)\n",
    "ScatterplotEnergy = mergedDataFile.groupby(mergedDataFile[\"DateTime\"].dt.date).agg({'energy': 'sum'})\n",
    "plt.scatter(ScatterplotEnergy.index, ScatterplotEnergy['energy'])\n",
    "plt.xticks([\"2019-01-01 00:00:00\", \"2019-02-01 00:00:00\",\"2019-03-01 00:00:00\", \"2019-04-01 00:00:00\"])\n",
    "plt.title(\"Summe der Energie pro Tag\")\n",
    "plt.xlabel(\"Datum\")\n",
    "plt.ylabel(\"Summe der Energie\")\n",
    "plt.show()"
   ]
  },
  {
   "cell_type": "code",
   "execution_count": 57,
   "id": "665fbb5a",
   "metadata": {},
   "outputs": [],
   "source": [
    "# Definition der Verteilungsinformationen für die Zonen aus dem vorherigen Fitting\n",
    "listfeatures_distributions_zone1 = [[\"mass\", \"exponential\"], [\"velocity\", \"normal\"], [\"TimebeforeStone\", \"exponential\"]]\n",
    "listfeatures_distributions_zone2 = [[\"mass\", \"exponential\"], [\"velocity\", \"normal\"], [\"TimebeforeStone\", \"gamma\"]]\n",
    "\n",
    "# Mainloop for Monte Carlo Sim\n",
    "# Zone 1\n",
    "listfeatures_samples_zone_1 = pd.DataFrame()\n",
    "zoneindex = 0\n",
    "\n",
    "for featureDistribution in listfeatures_distributions_zone1:\n",
    "    zoneindex = 1\n",
    "    if (featureDistribution[1] == \"exponential\"):\n",
    "        # Verteilungsparameter bestimmen\n",
    "        meanExponential1 = mean(dataFile1[featureDistribution[0]])\n",
    "        # Generieren von samples die exponential verteilt sind\n",
    "        rng = default_rng()\n",
    "        sample = rng.exponential(meanExponential1,size=sizeMonteCarloSimZone1)\n",
    "        # Generierte Werte ins Datenframe hinzufügen\n",
    "        listfeatures_samples_zone_1[featureDistribution[0]] = sample\n",
    "\n",
    "    elif(featureDistribution[1] == \"normal\"):\n",
    "        # Verteilungsparameter bestimmen\n",
    "        meanNormal1 = mean(dataFile1[featureDistribution[0]])\n",
    "        stdNormal1 = np.std(dataFile1[featureDistribution[0]])\n",
    "        # Generieren von samples die normal verteilt sind\n",
    "        rng = default_rng()\n",
    "        sample = rng.normal(meanNormal1, stdNormal1,size=sizeMonteCarloSimZone1)\n",
    "        # Generierte Werte ins Datenframe hinzufügen\n",
    "        listfeatures_samples_zone_1[featureDistribution[0]] = sample\n",
    "\n",
    "    elif(featureDistribution[1] == \"gamma\"):\n",
    "        # Verteilungsparameter bestimmen\n",
    "        meanGamma1 = mean(dataFile1[featureDistribution[0]])\n",
    "        # Generieren von samples die gamma verteilt sind\n",
    "        rng = default_rng()\n",
    "        sample = rng.gamma(meanGamma1, size=sizeMonteCarloSimZone1)\n",
    "        # Generierte Werte ins Datenframe hinzufügen\n",
    "        listfeatures_samples_zone_1[featureDistribution[0]] = sample\n",
    "\n",
    "# Zone 2\n",
    "listfeatures_samples_zone_2 = pd.DataFrame()\n",
    "zoneindex = 0\n",
    "\n",
    "for featureDistribution in listfeatures_distributions_zone2:\n",
    "    zoneindex = 2\n",
    "    if (featureDistribution[1] == \"exponential\"):\n",
    "        # Verteilungsparameter bestimmen\n",
    "        meanExponential2 = mean(dataFile2[featureDistribution[0]])\n",
    "        # Generieren von samples die exponential verteilt sind\n",
    "        rng = default_rng()\n",
    "        sample = rng.exponential(meanExponential2, size=sizeMonteCarloSimZone2)\n",
    "        # Generierte Werte ins Datenframe hinzufügen\n",
    "        listfeatures_samples_zone_2[featureDistribution[0]] = sample\n",
    "\n",
    "    elif(featureDistribution[1] == \"normal\"):\n",
    "        # Verteilungsparameter bestimmen\n",
    "        meanNormal2 = mean(dataFile2[featureDistribution[0]])\n",
    "        stdNormal2 = np.std(dataFile2[featureDistribution[0]])\n",
    "        # Generieren von samples die normal verteilt sind\n",
    "        rng = default_rng()\n",
    "        sample = rng.normal(meanNormal2, stdNormal2,size=sizeMonteCarloSimZone2)\n",
    "        # Generierte Werte ins Datenframe hinzufügen\n",
    "        listfeatures_samples_zone_2[featureDistribution[0]] = sample\n",
    "\n",
    "    elif(featureDistribution[1] == \"gamma\"):\n",
    "        # Verteilungsparameter bestimmen\n",
    "        meanGamma2 = mean(dataFile2[featureDistribution[0]])\n",
    "        # Generieren von samples die gamma verteilt sind\n",
    "        rng = default_rng()\n",
    "        sample = rng.gamma(meanGamma2, size=sizeMonteCarloSimZone2)\n",
    "        # Generierte Werte ins Datenframe hinzufügen\n",
    "        listfeatures_samples_zone_2[featureDistribution[0]] = sample\n"
   ]
  },
  {
   "cell_type": "code",
   "execution_count": 58,
   "id": "bee6c61f",
   "metadata": {},
   "outputs": [
    {
     "name": "stdout",
     "output_type": "stream",
     "text": [
      "Anzahl simulierter Jahre: 2346.0\n",
      "Anzahl Durchbrüche nach vollem Netz: 15\n",
      "Anzahl direkter Durchbrüche: 7\n"
     ]
    }
   ],
   "source": [
    "# Berechnung der Energie der simulierten Steinschläge pro Zone\n",
    "listfeatures_samples_zone_1['energy'] = ((listfeatures_samples_zone_1['mass']/2)*(listfeatures_samples_zone_1['velocity']**2) / 1000)\n",
    "listfeatures_samples_zone_2['energy'] = ((listfeatures_samples_zone_2['mass']/2)*(listfeatures_samples_zone_2['velocity']**2) / 1000)\n",
    "\n",
    "# Markierung der Steine, die mit der Energie das Netz durchschlagen haben\n",
    "listfeatures_samples_zone_1['direct_breakthrough'] = np.where((listfeatures_samples_zone_1[\"energy\"] >= 1000), 1, 0)\n",
    "listfeatures_samples_zone_2['direct_breakthrough'] = np.where((listfeatures_samples_zone_2[\"energy\"] >= 1000), 1, 0)\n",
    "\n",
    "# Hinzufügen der Zone als Spalte\n",
    "listfeatures_samples_zone_1['Zone'] = 1\n",
    "listfeatures_samples_zone_2['Zone'] = 2\n",
    "\n",
    "# Kumulierte Summe der Zeitdifferenzen berechnen \n",
    "listfeatures_samples_zone_1[\"CumsumHoursbeforeStone\"] = listfeatures_samples_zone_1[\"TimebeforeStone\"].cumsum()\n",
    "listfeatures_samples_zone_2[\"CumsumHoursbeforeStone\"] = listfeatures_samples_zone_2[\"TimebeforeStone\"].cumsum()\n",
    "\n",
    "# Kombinieren beider Sample Datenframes\n",
    "listfeatures_samples = listfeatures_samples_zone_1.append(listfeatures_samples_zone_2, ignore_index=True)\n",
    "\n",
    "# Sortieren und Index neu setzen\n",
    "listfeatures_samples = listfeatures_samples.sort_values(by='CumsumHoursbeforeStone')\n",
    "listfeatures_samples = listfeatures_samples.reset_index(drop=True)\n",
    "\n",
    "# Definition des Jahres in welcher der Stein gefallen ist (365d * 24h)\n",
    "listfeatures_samples[\"Year\"] = listfeatures_samples['CumsumHoursbeforeStone'].floordiv(8760)\n",
    "\n",
    "\n",
    "# Berechnet, wieviel Masse pro Tag im Netz ist\n",
    "listfeatures_samples[\"Tag\"] = listfeatures_samples['CumsumHoursbeforeStone'] // 24\n",
    "Netzvoll = listfeatures_samples.groupby(\"Tag\")[\"mass\"].agg(\"sum\")\n",
    "Netzvoll = pd.DataFrame({'Tag': Netzvoll.index, 'Tagesmasse': Netzvoll.values})\n",
    "listfeatures_samples = listfeatures_samples.merge(Netzvoll, how=\"left\", on=\"Tag\")\n",
    "listfeatures_samples[\"PossibleBreachFullNet\"] = np.where((listfeatures_samples[\"energy\"] >= 500) & (listfeatures_samples[\"Tagesmasse\"] >= 2000), 1, 0)\n",
    "\n",
    "\n",
    "CountBreachFullNet = 0\n",
    "ListPossibleBrechFullNet = listfeatures_samples[listfeatures_samples[\"PossibleBreachFullNet\"] == 1]\n",
    "ListPossibleBrechFullNet = ListPossibleBrechFullNet.reset_index()\n",
    "for i in range(len(ListPossibleBrechFullNet)):\n",
    "    Day = ListPossibleBrechFullNet.loc[i, \"Tag\"]\n",
    "    ToCheck = listfeatures_samples[listfeatures_samples[\"Tag\"] == Day]\n",
    "    ToCheck = ToCheck.reset_index()\n",
    "    ToCheck[\"CumsumMass\"] = ToCheck[\"mass\"].shift().cumsum()\n",
    "    for i in range(len(ToCheck)):\n",
    "        if ToCheck.loc[i, \"direct_breakthrough\"] == 1:\n",
    "            break  # break weil wenn das Netz durchbrochen ist, die Strasse gesperrt wird\n",
    "        else:\n",
    "            if (ToCheck.loc[i, \"energy\"] >= 500) & (ToCheck.loc[i, \"CumsumMass\"] >= 2000):\n",
    "                CountBreachFullNet += 1\n",
    "                break\n",
    "\n",
    "# Ausgabe der Simulationensresultate\n",
    "print(\"Anzahl simulierter Jahre:\", listfeatures_samples[\"Year\"].max())\n",
    "print(\"Anzahl Durchbrüche nach vollem Netz:\", CountBreachFullNet)\n",
    "print(\"Anzahl direkter Durchbrüche:\",listfeatures_samples[\"direct_breakthrough\"].sum())\n"
   ]
  },
  {
   "cell_type": "markdown",
   "id": "68aa49e8",
   "metadata": {},
   "source": [
    "## Netzdurchbruch Wahrscheinlichkeit pro Jahr"
   ]
  },
  {
   "cell_type": "code",
   "execution_count": 59,
   "id": "0514b1d7",
   "metadata": {},
   "outputs": [
    {
     "name": "stdout",
     "output_type": "stream",
     "text": [
      "0.0093776641\n"
     ]
    }
   ],
   "source": [
    "# Alle Durchbrüche berechnen\n",
    "AllBreaches = float(CountBreachFullNet + listfeatures_samples[\"direct_breakthrough\"].sum())\n",
    "# Alle simulierten Jahre\n",
    "MaxYears = float(listfeatures_samples[\"Year\"].max())\n",
    "\n",
    "# Wahrscheinlichkeit von einem Durchbruch pro Jahr\n",
    "ProbabilityNetBreach = AllBreaches / MaxYears\n",
    "print('{0:.10f}'.format(ProbabilityNetBreach))"
   ]
  },
  {
   "cell_type": "markdown",
   "id": "f04afe52",
   "metadata": {},
   "source": [
    "## Auto Wahrscheinlichkeit pro Stunde\n",
    "\n",
    "Uniforme Distribution\n",
    "evtl. Normalverteilt oder doppelnormalverteilt\n",
    "\n",
    "Wird sich aber auflösen da die Steine auch einigermassen uniform pro stunde fallen"
   ]
  },
  {
   "cell_type": "code",
   "execution_count": 60,
   "id": "fe248aee",
   "metadata": {},
   "outputs": [
    {
     "name": "stdout",
     "output_type": "stream",
     "text": [
      "50.0000000000\n"
     ]
    }
   ],
   "source": [
    "# Autos pro Stunde\n",
    "ProbabilityCar = 1200/24\n",
    "print('{0:.10f}'.format(ProbabilityCar))"
   ]
  },
  {
   "cell_type": "markdown",
   "id": "eceb4631",
   "metadata": {},
   "source": [
    "## Wahrscheinlichkeit Autoaufprall\n",
    "\n",
    "Bremsweg berechnung"
   ]
  },
  {
   "cell_type": "code",
   "execution_count": 61,
   "id": "e8fc3fb7",
   "metadata": {},
   "outputs": [
    {
     "name": "stdout",
     "output_type": "stream",
     "text": [
      "0.0003666667\n"
     ]
    }
   ],
   "source": [
    "# Bremsweg definieren (Vollbremse = Bremsweg/2)\n",
    "BrakeWay = 36 / 2\n",
    "# Autolänge definieren\n",
    "AutoLength = 4\n",
    "\n",
    "# Gefahrenzone für ein Auto welches durchfährt\n",
    "DangerZone = BrakeWay + AutoLength\n",
    "# Geschwindigkeit eines Autos in m/s\n",
    "VelocityCar = 60 / 3.6\n",
    "\n",
    "# Wahrscheinlichkeit für ein Auto in der Gefahrenzone zu sein pro Tag\n",
    "ProbabilityCarImpact = (DangerZone / VelocityCar) / (60*60)\n",
    "print('{0:.10f}'.format(ProbabilityCarImpact))"
   ]
  },
  {
   "cell_type": "markdown",
   "id": "691c901b",
   "metadata": {},
   "source": [
    "## Todesfall Wahrscheinlichkeit bei Aufprall\n",
    "\n",
    "Von Quelle 4/14 verunfallten verletzen sich tödlich"
   ]
  },
  {
   "cell_type": "code",
   "execution_count": 62,
   "id": "8771cb36",
   "metadata": {},
   "outputs": [
    {
     "name": "stdout",
     "output_type": "stream",
     "text": [
      "0.2857142857\n"
     ]
    }
   ],
   "source": [
    "# Wahrscheinlichkeit das ein Verunfallter stirbt\n",
    "ProbabilityDeath = float(4/14)\n",
    "print('{0:.10f}'.format(ProbabilityDeath))"
   ]
  },
  {
   "cell_type": "markdown",
   "id": "5eb2ad66",
   "metadata": {},
   "source": [
    "## Durchschnittspassagiere\n",
    "\n",
    "https://www.gr.ch/DE/Medien/Mitteilungen/MMStaka/2018/MedienDokumente/Bericht_Mikrozensus_2015_ohneAnhang.pdf"
   ]
  },
  {
   "cell_type": "code",
   "execution_count": 63,
   "id": "b6177148",
   "metadata": {},
   "outputs": [
    {
     "name": "stdout",
     "output_type": "stream",
     "text": [
      "1.6600000000\n"
     ]
    }
   ],
   "source": [
    "# Durschnittspassagiere pro Fahrzeug\n",
    "MeanPassengers = float(1.66)\n",
    "print('{0:.10f}'.format(MeanPassengers))"
   ]
  },
  {
   "cell_type": "code",
   "execution_count": 64,
   "id": "c6528222-7b35-4672-97c8-f8cb921254e0",
   "metadata": {},
   "outputs": [
    {
     "name": "stdout",
     "output_type": "stream",
     "text": [
      "0.0000815410\n",
      "0.0001000000\n",
      "Wahrscheinlichkeitsgrenzwert 0.0001 nicht überschritten. Die Strasse kann offen bleiben!\n"
     ]
    }
   ],
   "source": [
    "#Berechnung Wahrscheinlichkeit für Todesfälle\n",
    "ProbabilityDeathCase = ProbabilityNetBreach  * ProbabilityCar * ProbabilityCarImpact * ProbabilityDeath * MeanPassengers\n",
    "\n",
    "print('{0:.10f}'.format(ProbabilityDeathCase))\n",
    "print('{0:.10f}'.format(ProbabilityLimit))\n",
    "\n",
    "# Ausgabe der Entscheidung\n",
    "if AllBreaches == 0:\n",
    "    print(\"Keine Durchbrüche vorhanden. Die Simulationanzahl muss erhöht werden.\")\n",
    "\n",
    "if ProbabilityDeathCase >= ProbabilityLimit :\n",
    "    print(f\"Wahrscheinlichkeitsgrenzwert {ProbabilityLimit} überschritten.\")\n",
    "    \n",
    "else:\n",
    "    print(f\"Wahrscheinlichkeitsgrenzwert {ProbabilityLimit} nicht überschritten. Die Strasse kann offen bleiben!\")\n",
    "        "
   ]
  }
 ],
 "metadata": {
  "citation-manager": {
   "items": {}
  },
  "kernelspec": {
   "display_name": "Python 3",
   "language": "python",
   "name": "python3"
  },
  "language_info": {
   "codemirror_mode": {
    "name": "ipython",
    "version": 3
   },
   "file_extension": ".py",
   "mimetype": "text/x-python",
   "name": "python",
   "nbconvert_exporter": "python",
   "pygments_lexer": "ipython3",
   "version": "3.8.8"
  }
 },
 "nbformat": 4,
 "nbformat_minor": 5
}
